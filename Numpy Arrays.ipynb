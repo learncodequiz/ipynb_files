{
 "cells": [
  {
   "cell_type": "markdown",
   "metadata": {},
   "source": [
    "# Numpy\n",
    "\n",
    "### NumPy is an essential and powerful library in Python for numerical computing. Its importance stems from the numerous benefits it offers for working with arrays and performing mathematical operations efficiently. Here are some key reasons why NumPy is so important:\n",
    "\n",
    "### NumPy seamlessly integrates with other scientific computing and data manipulation libraries in Python, such as SciPy (Scientific Python library), Pandas (Data Analysis library), and Matplotlib (Plotting library). These libraries often use NumPy arrays as their fundamental data structure."
   ]
  },
  {
   "cell_type": "markdown",
   "metadata": {},
   "source": [
    "# Step 1: Import NumPy"
   ]
  },
  {
   "cell_type": "code",
   "execution_count": 2,
   "metadata": {},
   "outputs": [],
   "source": [
    "import numpy as np"
   ]
  },
  {
   "cell_type": "markdown",
   "metadata": {},
   "source": [
    "# Step 2: Creating NumPy Arrays\n",
    "## You can create NumPy arrays in various ways. Some common methods include:\n",
    "\n",
    "### a) From Python Lists:"
   ]
  },
  {
   "cell_type": "code",
   "execution_count": 3,
   "metadata": {},
   "outputs": [
    {
     "name": "stdout",
     "output_type": "stream",
     "text": [
      "[1 2 3 4 5]\n",
      "[[1 2 3]\n",
      " [4 5 6]\n",
      " [7 8 9]]\n"
     ]
    }
   ],
   "source": [
    "# 1D array\n",
    "arr1d = np.array([1, 2, 3, 4, 5])\n",
    "\n",
    "# 2D array\n",
    "arr2d = np.array([[1, 2, 3], [4, 5, 6], [7, 8, 9]])\n",
    "\n",
    "print(arr1d)\n",
    "print(arr2d)"
   ]
  },
  {
   "cell_type": "markdown",
   "metadata": {},
   "source": [
    "### b) Using NumPy Functions:"
   ]
  },
  {
   "cell_type": "code",
   "execution_count": 4,
   "metadata": {},
   "outputs": [
    {
     "name": "stdout",
     "output_type": "stream",
     "text": [
      "[0. 0. 0. 0. 0.]\n",
      "[[1. 1. 1. 1.]\n",
      " [1. 1. 1. 1.]\n",
      " [1. 1. 1. 1.]]\n",
      "[0 2 4 6 8]\n",
      "[0.   0.25 0.5  0.75 1.  ]\n"
     ]
    }
   ],
   "source": [
    "# Create a 1D array of zeros\n",
    "zeros_arr = np.zeros(5)\n",
    "\n",
    "# Create a 2D array of ones with a shape of (3, 4)\n",
    "ones_arr = np.ones((3, 4))\n",
    "\n",
    "# Create a 1D array with values in a specified range (start, stop, step)\n",
    "range_arr = np.arange(0, 10, 2)\n",
    "\n",
    "# Create a 1D array of equally spaced values between start and stop\n",
    "linspace_arr = np.linspace(0, 1, 5)\n",
    "\n",
    "print(zeros_arr)\n",
    "print(ones_arr)\n",
    "print(range_arr)\n",
    "print(linspace_arr)"
   ]
  },
  {
   "cell_type": "markdown",
   "metadata": {},
   "source": [
    "# Step 3: Array Attributes\n",
    "### NumPy arrays have several attributes that provide information about the array:"
   ]
  },
  {
   "cell_type": "code",
   "execution_count": 5,
   "metadata": {},
   "outputs": [
    {
     "name": "stdout",
     "output_type": "stream",
     "text": [
      "Shape of the array: (5,)\n",
      "Number of dimensions: 1\n",
      "Size of the array: 5\n",
      "Data type of the array: int32\n"
     ]
    }
   ],
   "source": [
    "arr = np.array([1, 2, 3, 4, 5])\n",
    "\n",
    "print(\"Shape of the array:\", arr.shape)  # Output: (5,) - 1D array with 5 elements\n",
    "print(\"Number of dimensions:\", arr.ndim)  # Output: 1 - 1D array\n",
    "print(\"Size of the array:\", arr.size)     # Output: 5 - 5 elements in the array\n",
    "print(\"Data type of the array:\", arr.dtype)  # Output: int64 - the data type of the array"
   ]
  },
  {
   "cell_type": "markdown",
   "metadata": {},
   "source": [
    "## Shape of the array: \n",
    "### The shape of a NumPy array is a tuple representing the number of elements along each dimension of the array. In this case, the shape (5,) indicates that the array is a 1-dimensional array (1D) with 5 elements. The comma after the 5 indicates that the tuple contains only one element, which corresponds to the number of elements in the first (and only) dimension of the array. The shape is specified as (5,), where 5 denotes the length of the array along the first dimension."
   ]
  },
  {
   "cell_type": "markdown",
   "metadata": {},
   "source": [
    "## Size of the array: \n",
    "### The size of a NumPy array refers to the total number of elements present in the array. It represents the count of all the individual elements contained within the array, regardless of the number of dimensions. In this case, the size is 5, which means the array contains a total of 5 elements."
   ]
  },
  {
   "cell_type": "markdown",
   "metadata": {},
   "source": [
    "##### int32\" means that the data type of the elements in the array is 32-bit signed integer. In the example \"Data type of the array: int32,\" the elements in the array are integers, and the specific data type used to represent those integers is a 32-bit signed integer. The 'int32' data type means that each integer element in the array occupies 32 bits (4 bytes) of memory and can represent integer values in the range from -2,147,483,648 to 2,147,483,647."
   ]
  },
  {
   "cell_type": "code",
   "execution_count": 6,
   "metadata": {},
   "outputs": [
    {
     "name": "stdout",
     "output_type": "stream",
     "text": [
      "The array [[1 2 3 4 5]\n",
      " [1 2 4 5 6]]\n",
      "Shape of the array: (2, 5)\n",
      "Number of dimensions: 2\n",
      "Size of the array: 10\n",
      "Data type of the array: int32\n"
     ]
    }
   ],
   "source": [
    "arr = np.array([[1, 2, 3, 4, 5], [1, 2, 4, 5, 6]])\n",
    "\n",
    "print(\"The array\", arr)\n",
    "print(\"Shape of the array:\", arr.shape)  # Output: (5,) - 1D array with 5 elements\n",
    "print(\"Number of dimensions:\", arr.ndim)  # Output: 1 - 1D array\n",
    "print(\"Size of the array:\", arr.size)     # Output: 5 - 5 elements in the array\n",
    "print(\"Data type of the array:\", arr.dtype)  # Output: int64 - the data type of the array"
   ]
  },
  {
   "cell_type": "markdown",
   "metadata": {},
   "source": [
    "# Step 4: Array Indexing and Slicing\n",
    "### NumPy arrays support indexing and slicing similar to Python lists:"
   ]
  },
  {
   "cell_type": "code",
   "execution_count": 7,
   "metadata": {},
   "outputs": [
    {
     "name": "stdout",
     "output_type": "stream",
     "text": [
      "Element at index 2: 30\n",
      "Elements from index 1 to 3: [20 30 40]\n",
      "Every second element: [10 30 50]\n"
     ]
    }
   ],
   "source": [
    "arr = np.array([10, 20, 30, 40, 50])\n",
    "\n",
    "print(\"Element at index 2:\", arr[2])      # Output: 30\n",
    "print(\"Elements from index 1 to 3:\", arr[1:4])  # Output: [20, 30, 40]\n",
    "print(\"Every second element:\", arr[::2])   # Output: [10, 30, 50]"
   ]
  },
  {
   "cell_type": "markdown",
   "metadata": {},
   "source": [
    "### For 2D arrays, you can access elements using two indices:"
   ]
  },
  {
   "cell_type": "code",
   "execution_count": 4,
   "metadata": {},
   "outputs": [
    {
     "name": "stdout",
     "output_type": "stream",
     "text": [
      "Print the array\n",
      " [[1 2 3]\n",
      " [4 5 6]\n",
      " [7 8 9]]\n",
      "Element at row 2, column 3: 6\n",
      "First two rows: [[1 2 3]\n",
      " [4 5 6]]\n",
      "Array2:\n",
      "[[1 2 3]\n",
      " [4 5 6]\n",
      " [7 8 9]]\n"
     ]
    }
   ],
   "source": [
    "arr2d = np.array([[1, 2, 3], [4, 5, 6], [7, 8, 9]])\n",
    "\n",
    "print(\"Print the array\\n\", arr2d)\n",
    "print(\"Element at row 2, column 3:\", arr2d[1, 2])  # Output: 6\n",
    "print(\"First two rows:\", arr2d[:2, :])            # Output: [[1 2 3] [4 5 6]]\n",
    "\n",
    "# Looping through 2D arrays\n",
    "    \n",
    "# Initialize an empty 2D array of the same shape as array1\n",
    "array2 = np.empty_like(arr2d)\n",
    "\n",
    "# Using nested for loops to copy elements from array1 to array2\n",
    "for i in range(len(arr2d)):\n",
    "    for j in range(len(arr2d[i])):\n",
    "        array2[i][j] = arr2d[i][j]\n",
    "\n",
    "# Print array2\n",
    "print(\"Array2:\")\n",
    "print(array2)"
   ]
  },
  {
   "cell_type": "markdown",
   "metadata": {},
   "source": [
    "# Step 5: Array Operations\n",
    "### NumPy arrays support various mathematical operations, and these operations are element-wise:"
   ]
  },
  {
   "cell_type": "code",
   "execution_count": 11,
   "metadata": {},
   "outputs": [
    {
     "name": "stdout",
     "output_type": "stream",
     "text": [
      "Addition: [5 7 9]\n",
      "Multiplication: [ 4 10 18]\n",
      "Dot Product: 32\n"
     ]
    }
   ],
   "source": [
    "a = np.array([1, 2, 3])\n",
    "b = np.array([4, 5, 6])\n",
    "\n",
    "# Element-wise addition\n",
    "result_add = a + b\n",
    "\n",
    "# Element-wise multiplication\n",
    "result_mul = a * b\n",
    "\n",
    "# Matrix multiplication (dot product)\n",
    "result_dot = np.dot(a, b)\n",
    "# a[0] * b[0] = 1 * 4 = 4\n",
    "# a[1] * b[1] = 2 * 5 = 10\n",
    "# a[2] * b[2] = 3 * 6 = 18\n",
    "Sum = 4 + 10 + 18 = 32\n",
    "\n",
    "print(\"Addition:\", result_add)  # Output: [5 7 9]\n",
    "print(\"Multiplication:\", result_mul)  # Output: [4 10 18]\n",
    "print(\"Dot Product:\", result_dot)  # Output: 32"
   ]
  },
  {
   "cell_type": "markdown",
   "metadata": {},
   "source": [
    "# Step 6: Reshaping Arrays\n",
    "### You can reshape arrays to give them a new shape:"
   ]
  },
  {
   "cell_type": "code",
   "execution_count": 12,
   "metadata": {},
   "outputs": [
    {
     "name": "stdout",
     "output_type": "stream",
     "text": [
      "Original array: [0 1 2 3 4 5 6 7 8]\n",
      "Reshaped array:\n",
      "[[0 1 2]\n",
      " [3 4 5]\n",
      " [6 7 8]]\n"
     ]
    }
   ],
   "source": [
    "arr = np.arange(9)\n",
    "reshaped_arr = arr.reshape((3, 3))\n",
    "\n",
    "print(\"Original array:\", arr)\n",
    "print(\"Reshaped array:\")\n",
    "print(reshaped_arr)"
   ]
  }
 ],
 "metadata": {
  "kernelspec": {
   "display_name": "Python 3",
   "language": "python",
   "name": "python3"
  },
  "language_info": {
   "codemirror_mode": {
    "name": "ipython",
    "version": 3
   },
   "file_extension": ".py",
   "mimetype": "text/x-python",
   "name": "python",
   "nbconvert_exporter": "python",
   "pygments_lexer": "ipython3",
   "version": "3.8.3"
  }
 },
 "nbformat": 4,
 "nbformat_minor": 4
}
