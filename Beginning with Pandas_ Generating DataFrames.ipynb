{
 "cells": [
  {
   "cell_type": "markdown",
   "metadata": {},
   "source": [
    "# Beginning with Pandas: Generating DataFrames"
   ]
  },
  {
   "cell_type": "markdown",
   "metadata": {},
   "source": [
    "# Git repository of our tutorial notebooks: https://github.com/learncodequiz/ipynb_files\n"
   ]
  },
  {
   "cell_type": "markdown",
   "metadata": {},
   "source": [
    "### Step 1. To work with Pandas, you need to import the library at the beginning of your Python script:"
   ]
  },
  {
   "cell_type": "code",
   "execution_count": 21,
   "metadata": {},
   "outputs": [],
   "source": [
    "# pip install pandas\n",
    "import pandas as pd"
   ]
  },
  {
   "cell_type": "markdown",
   "metadata": {},
   "source": [
    "### Step 2: Create a DataFrame from a dictionary\n",
    "### The most straightforward way to create a DataFrame is by using a dictionary. The keys of the dictionary represent the column names, and the values are lists containing the data for each column."
   ]
  },
  {
   "cell_type": "markdown",
   "metadata": {},
   "source": [
    "## What is a DataFrame ? "
   ]
  },
  {
   "cell_type": "markdown",
   "metadata": {},
   "source": [
    "### A DataFrame is a fundamental data structure in Pandas. It provides a two-dimensional, tabular data structure that organizes data in rows and columns, similar to a spreadsheet or a SQL table. The DataFrame is one of the key components that makes Pandas powerful and versatile for data analysis tasks."
   ]
  },
  {
   "cell_type": "code",
   "execution_count": 22,
   "metadata": {},
   "outputs": [
    {
     "name": "stdout",
     "output_type": "stream",
     "text": [
      "      Name  Age           City\n",
      "0    Alice   25       New York\n",
      "1      Bob   30  San Francisco\n",
      "2  Charlie   28    Los Angeles\n"
     ]
    }
   ],
   "source": [
    "# Sample data in dictionary format\n",
    "data = {\n",
    "    'Name': ['Alice', 'Bob', 'Charlie'],\n",
    "    'Age': [25, 30, 28],\n",
    "    'City': ['New York', 'San Francisco', 'Los Angeles']\n",
    "}\n",
    "\n",
    "# Create DataFrame from the dictionary\n",
    "df = pd.DataFrame(data) # pd.DataFrame() is the constructor\n",
    "\n",
    "# pd.DataFrame is a class, and data is an argument passed to the constructor of this class. When you call pd.DataFrame(data), \n",
    "# it creates a new DataFrame object based on the provided data argument.\n",
    "\n",
    "\n",
    "\n",
    "# Display the DataFrame\n",
    "print(df)"
   ]
  },
  {
   "cell_type": "markdown",
   "metadata": {},
   "source": [
    "# Please check my previous video on Classes, Constructors, Objects and  Inheritance in Python https://youtu.be/ElfEmgMY4Ik"
   ]
  },
  {
   "cell_type": "markdown",
   "metadata": {},
   "source": [
    "## Reading Data from a .csv file \n",
    "### CSV stands for \"Comma-Separated Values.\""
   ]
  },
  {
   "cell_type": "code",
   "execution_count": 23,
   "metadata": {},
   "outputs": [
    {
     "name": "stdout",
     "output_type": "stream",
     "text": [
      "      Name  Age           City\n",
      "0    Alice   25       New York\n",
      "1      Bob   30  San Francisco\n",
      "2  Charlie   28    Los Angeles\n"
     ]
    }
   ],
   "source": [
    "# Assuming you have a CSV file named 'data.csv' with the same data as in the dictionary example\n",
    "df = pd.read_csv('data.csv')\n",
    "\n",
    "# pd.read_csv() is a function provided by the pandas library for reading data from a CSV file\n",
    "# and creating a DataFrame object from that data.\n",
    "\n",
    "# Display the DataFrame\n",
    "print(df)"
   ]
  },
  {
   "cell_type": "code",
   "execution_count": 25,
   "metadata": {
    "scrolled": true
   },
   "outputs": [
    {
     "name": "stdout",
     "output_type": "stream",
     "text": [
      "    Name  Age           City\n",
      "   Alice   25       New York\n",
      "     Bob   30  San Francisco\n",
      " Charlie   28    Los Angeles\n"
     ]
    }
   ],
   "source": [
    "# Display the DataFrame without the index column\n",
    "print(df.to_string(index=False))\n",
    "\n",
    "# df.to_string() is a method.\n",
    "\n",
    "# In Python, a method is a function that is associated with an object and can be called on that object. \n",
    "# In this case, to_string() is a method that is defined for DataFrame objects in pandas. \n",
    "# It is used to obtain a string representation of the DataFrame's contents."
   ]
  },
  {
   "cell_type": "markdown",
   "metadata": {},
   "source": [
    "### The to_string() method with index=False will print the DataFrame without the index column, \n",
    "### providing you with a cleaner output."
   ]
  },
  {
   "cell_type": "code",
   "execution_count": null,
   "metadata": {},
   "outputs": [],
   "source": []
  }
 ],
 "metadata": {
  "kernelspec": {
   "display_name": "Python 3",
   "language": "python",
   "name": "python3"
  },
  "language_info": {
   "codemirror_mode": {
    "name": "ipython",
    "version": 3
   },
   "file_extension": ".py",
   "mimetype": "text/x-python",
   "name": "python",
   "nbconvert_exporter": "python",
   "pygments_lexer": "ipython3",
   "version": "3.8.3"
  }
 },
 "nbformat": 4,
 "nbformat_minor": 4
}
