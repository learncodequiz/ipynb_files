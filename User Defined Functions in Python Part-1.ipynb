{
 "cells": [
  {
   "cell_type": "markdown",
   "metadata": {},
   "source": [
    "# User Defined Functions Part 1"
   ]
  },
  {
   "cell_type": "markdown",
   "metadata": {},
   "source": [
    "# Why do we use functions? \n",
    "\n",
    "## Code Reusability: \n",
    "### Once you define a function, you can use it multiple times throughout your program or even in different programs. This promotes code reusability and helps save development time.\n",
    "\n",
    "## Readability: \n",
    "### Functions improve the readability of code by giving meaningful names to different parts of the program. A well-named function can describe its purpose and what it does, making the code more self-explanatory.\n",
    " \n",
    "## Modularity: \n",
    "### Functions allow you to break down complex tasks into smaller, manageable pieces of code. Each function can focus on a specific task, making the overall code easier to understand, read, and maintain."
   ]
  },
  {
   "cell_type": "code",
   "execution_count": 9,
   "metadata": {},
   "outputs": [
    {
     "name": "stdout",
     "output_type": "stream",
     "text": [
      "I am Dr. Souptik Mukherjee. What is your name?\n",
      "I am Dr. Souptik Mukherjee. What is your name?\n",
      "I am Dr. Souptik Mukherjee. What is your name?\n",
      "I am Dr. Souptik Mukherjee. What is your name?\n",
      "I am Dr. Souptik Mukherjee. What is your name?\n"
     ]
    }
   ],
   "source": [
    "# Instead of using the print statement several times, I call the function several times\n",
    "def introduction():\n",
    "    print(\"I am Dr. Souptik Mukherjee. What is your name?\")\n",
    "\n",
    "introduction()\n",
    "introduction()\n",
    "introduction()\n",
    "introduction()\n",
    "introduction()"
   ]
  },
  {
   "cell_type": "code",
   "execution_count": 11,
   "metadata": {},
   "outputs": [
    {
     "name": "stdout",
     "output_type": "stream",
     "text": [
      "I am Dr. Souptik Mukherjee. What is your name?\n",
      "I am Dr. Souptik Mukherjee. What is your name?\n",
      "I am Dr. Souptik Mukherjee. What is your name?\n",
      "I am Dr. Souptik Mukherjee. What is your name?\n",
      "I am Dr. Souptik Mukherjee. What is your name?\n"
     ]
    }
   ],
   "source": [
    "# Return statememt \n",
    "def introduction():\n",
    "    return(\"I am Dr. Souptik Mukherjee. What is your name?\")\n",
    "\n",
    "print(introduction())\n",
    "print(introduction())\n",
    "print(introduction())\n",
    "print(introduction())\n",
    "print(introduction())"
   ]
  },
  {
   "cell_type": "code",
   "execution_count": 14,
   "metadata": {},
   "outputs": [
    {
     "name": "stdout",
     "output_type": "stream",
     "text": [
      "I am Dr. Souptik Mukherjee. What is your name?\n",
      "I am Dr. Souptik Mukherjee. What is your name?\n",
      "I am Dr. Souptik Mukherjee. What is your name?\n",
      "I am Dr. Souptik Mukherjee. What is your name?\n",
      "I am Dr. Souptik Mukherjee. What is your name?\n"
     ]
    }
   ],
   "source": [
    "# Description and Return \n",
    "\n",
    "def introduction():\n",
    "    \"\"\"\n",
    "    Description: This function is meant for an introduction\n",
    "\n",
    "    Return: It returns my name and asks for another person's name as a string\n",
    "    \n",
    "    \"\"\"\n",
    "    return \"I am Dr. Souptik Mukherjee. What is your name?\"\n",
    "\n",
    "print(introduction())\n",
    "print(introduction())\n",
    "print(introduction())\n",
    "print(introduction())\n",
    "print(introduction())"
   ]
  },
  {
   "cell_type": "markdown",
   "metadata": {},
   "source": [
    "## Abstraction: \n",
    "    \n",
    "    \n",
    "### Functions hide the implementation details of a particular operation, allowing you to use the function without needing to understand how it works internally. This simplifies the usage of complex operations."
   ]
  },
  {
   "cell_type": "markdown",
   "metadata": {},
   "source": [
    "## \"Function Parameters\" or \"Function Arguments.\""
   ]
  },
  {
   "cell_type": "code",
   "execution_count": 18,
   "metadata": {},
   "outputs": [
    {
     "name": "stdout",
     "output_type": "stream",
     "text": [
      "I am Souptik. What is your name?\n"
     ]
    }
   ],
   "source": [
    "def introduction(name):\n",
    "    \"\"\"\n",
    "    Description: This function is meant for an introduction\n",
    "\n",
    "    Return: It returns my name and asks for another person's name as a string\n",
    "    \n",
    "    \"\"\"\n",
    "    return \"I am \" + (name) +  \".\" + \" What is your name?\"\n",
    "\n",
    "print(introduction('Souptik'))"
   ]
  },
  {
   "cell_type": "code",
   "execution_count": 28,
   "metadata": {},
   "outputs": [
    {
     "name": "stdout",
     "output_type": "stream",
     "text": [
      "We are Souptik, Sam, and Allen. What is your name?\n"
     ]
    }
   ],
   "source": [
    "def introduction(name1, name2, name3):\n",
    "    \"\"\"\n",
    "    Description: This function is meant for an introduction\n",
    "\n",
    "    Return: It returns my name and asks for another person's name as a string\n",
    "    \"\"\"\n",
    "    return \"We are \" + name1 + \", \" + name2 + \", and \" + name3 + \".\" + \" What is your name?\"\n",
    "\n",
    "print(introduction('Souptik', 'Sam', 'Allen'))"
   ]
  },
  {
   "cell_type": "code",
   "execution_count": 29,
   "metadata": {},
   "outputs": [
    {
     "name": "stdout",
     "output_type": "stream",
     "text": [
      "We are 1, 2, and 3. What is your name?\n"
     ]
    }
   ],
   "source": [
    "def introduction(name1, name2, name3):\n",
    "    \"\"\"\n",
    "    Description: This function is meant for an introduction\n",
    "\n",
    "    Return: It returns my name and asks for another person's name as a string\n",
    "    We are Souptik, Sam, and Allen. What is your name?\n",
    "    \"\"\"\n",
    "    return \"We are \" + name1 + \", \" + name2 + \", and \" + name3 + \".\" + \" What is your name?\"\n",
    "\n",
    "print(introduction('1', '2', '3'))"
   ]
  },
  {
   "cell_type": "code",
   "execution_count": 30,
   "metadata": {},
   "outputs": [
    {
     "name": "stdout",
     "output_type": "stream",
     "text": [
      "We are Souptik, Sam, and Allen. What is your name?\n"
     ]
    },
    {
     "ename": "AssertionError",
     "evalue": "name3 must be a string.",
     "output_type": "error",
     "traceback": [
      "\u001b[1;31m---------------------------------------------------------------------------\u001b[0m",
      "\u001b[1;31mAssertionError\u001b[0m                            Traceback (most recent call last)",
      "\u001b[1;32m<ipython-input-30-9f070c69d84a>\u001b[0m in \u001b[0;36m<module>\u001b[1;34m\u001b[0m\n\u001b[0;32m     15\u001b[0m \u001b[1;33m\u001b[0m\u001b[0m\n\u001b[0;32m     16\u001b[0m \u001b[1;31m# Testing the function with a non-string argument (Raises an error)\u001b[0m\u001b[1;33m\u001b[0m\u001b[1;33m\u001b[0m\u001b[1;33m\u001b[0m\u001b[0m\n\u001b[1;32m---> 17\u001b[1;33m \u001b[0mprint\u001b[0m\u001b[1;33m(\u001b[0m\u001b[0mintroduction\u001b[0m\u001b[1;33m(\u001b[0m\u001b[1;34m'Souptik'\u001b[0m\u001b[1;33m,\u001b[0m \u001b[1;34m'Sam'\u001b[0m\u001b[1;33m,\u001b[0m \u001b[1;36m123\u001b[0m\u001b[1;33m)\u001b[0m\u001b[1;33m)\u001b[0m\u001b[1;33m\u001b[0m\u001b[1;33m\u001b[0m\u001b[0m\n\u001b[0m",
      "\u001b[1;32m<ipython-input-30-9f070c69d84a>\u001b[0m in \u001b[0;36mintroduction\u001b[1;34m(name1, name2, name3)\u001b[0m\n\u001b[0;32m      7\u001b[0m     \u001b[1;32massert\u001b[0m \u001b[0misinstance\u001b[0m\u001b[1;33m(\u001b[0m\u001b[0mname1\u001b[0m\u001b[1;33m,\u001b[0m \u001b[0mstr\u001b[0m\u001b[1;33m)\u001b[0m\u001b[1;33m,\u001b[0m \u001b[1;34m\"name1 must be a string.\"\u001b[0m\u001b[1;33m\u001b[0m\u001b[1;33m\u001b[0m\u001b[0m\n\u001b[0;32m      8\u001b[0m     \u001b[1;32massert\u001b[0m \u001b[0misinstance\u001b[0m\u001b[1;33m(\u001b[0m\u001b[0mname2\u001b[0m\u001b[1;33m,\u001b[0m \u001b[0mstr\u001b[0m\u001b[1;33m)\u001b[0m\u001b[1;33m,\u001b[0m \u001b[1;34m\"name2 must be a string.\"\u001b[0m\u001b[1;33m\u001b[0m\u001b[1;33m\u001b[0m\u001b[0m\n\u001b[1;32m----> 9\u001b[1;33m     \u001b[1;32massert\u001b[0m \u001b[0misinstance\u001b[0m\u001b[1;33m(\u001b[0m\u001b[0mname3\u001b[0m\u001b[1;33m,\u001b[0m \u001b[0mstr\u001b[0m\u001b[1;33m)\u001b[0m\u001b[1;33m,\u001b[0m \u001b[1;34m\"name3 must be a string.\"\u001b[0m\u001b[1;33m\u001b[0m\u001b[1;33m\u001b[0m\u001b[0m\n\u001b[0m\u001b[0;32m     10\u001b[0m \u001b[1;33m\u001b[0m\u001b[0m\n\u001b[0;32m     11\u001b[0m     \u001b[1;32mreturn\u001b[0m \u001b[1;34m\"We are \"\u001b[0m \u001b[1;33m+\u001b[0m \u001b[0mname1\u001b[0m \u001b[1;33m+\u001b[0m \u001b[1;34m\", \"\u001b[0m \u001b[1;33m+\u001b[0m \u001b[0mname2\u001b[0m \u001b[1;33m+\u001b[0m \u001b[1;34m\", and \"\u001b[0m \u001b[1;33m+\u001b[0m \u001b[0mname3\u001b[0m \u001b[1;33m+\u001b[0m \u001b[1;34m\". What is your name?\"\u001b[0m\u001b[1;33m\u001b[0m\u001b[1;33m\u001b[0m\u001b[0m\n",
      "\u001b[1;31mAssertionError\u001b[0m: name3 must be a string."
     ]
    }
   ],
   "source": [
    "def introduction(name1, name2, name3):\n",
    "    \"\"\"\n",
    "    Description: This function is meant for an introduction\n",
    "\n",
    "    Return: It returns my name and asks for another person's name as a string\n",
    "    \"\"\"\n",
    "    assert isinstance(name1, str), \"name1 must be a string.\"\n",
    "    assert isinstance(name2, str), \"name2 must be a string.\"\n",
    "    assert isinstance(name3, str), \"name3 must be a string.\"\n",
    "    \n",
    "# assert: The assert statement is used to perform a runtime check to ensure that a given condition\n",
    "# is true. If the condition is not true, it raises an AssertionError with an optional error message.\n",
    "\n",
    "# isinstance(name1, str): This part of the statement checks whether the variable name1 \n",
    "# is an instance of the str (string) data type. The isinstance() function returns True if name1\n",
    "# is a string and False otherwise.\n",
    "\n",
    "# \"name1 must be a string.\": This is the optional error message that is displayed if the\n",
    "# condition (isinstance(name1, str)) is not true. If the condition evaluates to False, \n",
    "# the assert statement raises an AssertionError and displays this error message.\n",
    "\n",
    "# In simpler terms, the assert statement in the code is used to check if name1 is a string.\n",
    "# If name1 is not a string (i.e., it's not an instance of the str data type), then the \n",
    "# assert statement raises an AssertionError with the error message\n",
    "# \"name1 must be a string.\"\n",
    "\n",
    "    return \"We are \" + name1 + \", \" + name2 + \", and \" + name3 + \". What is your name?\"\n",
    "\n",
    "# Testing the function with valid names\n",
    "print(introduction('Souptik', 'Sam', 'Allen'))\n",
    "\n",
    "# Testing the function with a non-string argument (Raises an error)\n",
    "print(introduction('Souptik', 'Sam', 123))"
   ]
  },
  {
   "cell_type": "code",
   "execution_count": 38,
   "metadata": {},
   "outputs": [
    {
     "name": "stdout",
     "output_type": "stream",
     "text": [
      "We are Souptik, Sam, and Allen. What is your name?\n"
     ]
    }
   ],
   "source": [
    "def introduction(names):\n",
    "    \"\"\"\n",
    "    Description: This function is meant for an introduction\n",
    "\n",
    "    Return: It returns my name and asks for another person's name as a string\n",
    "    \"\"\"\n",
    "    name1, name2, name3 = names  # Unpack the list into separate variables\n",
    "    # name1 = names[0]  # 'Souptik'\n",
    "    # name2 = names[1]  # 'Sam'\n",
    "    # name3 = names[2]  # 'Allen'\n",
    "\n",
    "    return \"We are \" + name1 + \", \" + name2 + \", and \" + name3 + \". What is your name?\"\n",
    "\n",
    "# Testing the function with a list of names\n",
    "print(introduction(['Souptik', 'Sam', 'Allen']))\n"
   ]
  },
  {
   "cell_type": "code",
   "execution_count": 44,
   "metadata": {},
   "outputs": [
    {
     "name": "stdout",
     "output_type": "stream",
     "text": [
      "Our total age: 96\n"
     ]
    }
   ],
   "source": [
    "def add_ages(ages):\n",
    "    \"\"\"\n",
    "    Description: This function adds the ages of three people\n",
    "\n",
    "    Return: It returns the total age as a string\n",
    "    \"\"\"\n",
    "    total_age = sum(ages.values())\n",
    "    return \"Our total age: \" + str(total_age)\n",
    "\n",
    "# Testing the function with a dictionary of ages\n",
    "print(add_ages({'Souptik': 44, 'Sam': 32, 'Allen': 20}))"
   ]
  },
  {
   "cell_type": "code",
   "execution_count": 45,
   "metadata": {},
   "outputs": [
    {
     "name": "stdout",
     "output_type": "stream",
     "text": [
      "Souptik's age: 44\n",
      "Sam's age: 32\n",
      "Allen's age: 20\n",
      "Our total age: 96\n"
     ]
    }
   ],
   "source": [
    "def add_ages(ages):\n",
    "    \"\"\"\n",
    "    Description: This function adds the ages of three people\n",
    "\n",
    "    Return: It returns the total age as a string\n",
    "    \"\"\"\n",
    "    total_age = 0\n",
    "    for name, age in ages.items():\n",
    "        print(f\"{name}'s age: {age}\")\n",
    "        total_age += age\n",
    "        \n",
    "# In Python, dictionaries have a method called items() that returns a list of tuples, \n",
    "# where each tuple contains a key-value pair from the dictionary. Each key represents the name, \n",
    "# and each value represents the age. The for loop iterates through these key-value pairs, \n",
    "# and we use the variables name and age \n",
    "# to store the key and value of each pair during each iteration.\n",
    "\n",
    "    return \"Our total age: \" + str(total_age)\n",
    "\n",
    "# Testing the function with a dictionary of ages\n",
    "print(add_ages({'Souptik': 44, 'Sam': 32, 'Allen': 20}))"
   ]
  },
  {
   "cell_type": "code",
   "execution_count": null,
   "metadata": {},
   "outputs": [],
   "source": []
  }
 ],
 "metadata": {
  "kernelspec": {
   "display_name": "Python 3",
   "language": "python",
   "name": "python3"
  },
  "language_info": {
   "codemirror_mode": {
    "name": "ipython",
    "version": 3
   },
   "file_extension": ".py",
   "mimetype": "text/x-python",
   "name": "python",
   "nbconvert_exporter": "python",
   "pygments_lexer": "ipython3",
   "version": "3.8.3"
  }
 },
 "nbformat": 4,
 "nbformat_minor": 4
}
