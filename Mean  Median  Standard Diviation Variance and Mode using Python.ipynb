{
 "cells": [
  {
   "cell_type": "markdown",
   "metadata": {},
   "source": [
    "# Mean , Median , Standard Diviation, Variance, Mode "
   ]
  },
  {
   "cell_type": "markdown",
   "metadata": {},
   "source": [
    "## From First Principles --- Mean , Median , Standard Diviation, Variance"
   ]
  },
  {
   "cell_type": "markdown",
   "metadata": {},
   "source": [
    "## Mean:\n",
    "\n",
    "### Equation: The mean of a dataset with N elements is calculated by summing all the values and dividing by the total number of elements.\n",
    "### Equation: Mean = (sum of all elements) / N\n",
    "### Explanation: The mean represents the average value of the dataset. It is the most commonly used measure of central tendency and gives an idea of the typical value in the dataset."
   ]
  },
  {
   "cell_type": "markdown",
   "metadata": {},
   "source": [
    "## Median:\n",
    "\n",
    "### Equation: For an odd-sized dataset, the median is the middle value when the data is sorted in ascending or descending order. For an even-sized dataset, it is the average of the two middle values.\n",
    "### Explanation: The median is another measure of central tendency, but it is less sensitive to extreme values (outliers) compared to the mean. It provides a representative value that divides the dataset into two equal halves."
   ]
  },
  {
   "cell_type": "markdown",
   "metadata": {},
   "source": [
    "## Standard Deviation:\n",
    "\n",
    "### Equation: The standard deviation measures the dispersion or spread of data points around the mean. It is the square root of the variance.\n",
    "### Equation: Standard Deviation (σ) = √(Σ (Xi - mean)^2 / N)\n",
    "### Explanation: A higher standard deviation indicates greater variability or dispersion of data points, while a lower standard deviation indicates that data points are closer to the mean."
   ]
  },
  {
   "cell_type": "markdown",
   "metadata": {},
   "source": [
    "## Variance:\n",
    "\n",
    "### Equation: The variance is the average of the squared differences between each data point and the mean of the dataset.\n",
    "### Equation: Variance = Σ (Xi - mean)^2 / N\n",
    "### Explanation: The variance quantifies the average deviation of data points from the mean. A higher variance indicates a wider spread of data, while a lower variance suggests that data points are closer to the mean."
   ]
  },
  {
   "cell_type": "markdown",
   "metadata": {},
   "source": [
    "## Mode:\n",
    "\n",
    "### Equation: The mode is the value that appears most frequently in the dataset.\n",
    "### Explanation: The mode identifies the most common value(s) in the dataset. A dataset can be unimodal (one mode), bimodal (two modes), or multimodal (more than two modes) depending on the number of values that occur most frequently."
   ]
  },
  {
   "cell_type": "markdown",
   "metadata": {},
   "source": [
    "# Minimum, Maximum, Mean, Median, Standard Deviation, Variance using Numpy functions"
   ]
  },
  {
   "cell_type": "code",
   "execution_count": 4,
   "metadata": {},
   "outputs": [],
   "source": [
    "import numpy as np"
   ]
  },
  {
   "cell_type": "code",
   "execution_count": 5,
   "metadata": {},
   "outputs": [],
   "source": [
    "import math"
   ]
  },
  {
   "cell_type": "code",
   "execution_count": 8,
   "metadata": {},
   "outputs": [
    {
     "name": "stdout",
     "output_type": "stream",
     "text": [
      "Mean: 3.0\n",
      "The Median is:  3\n",
      "Standard Deviation:  1.4142135623730951\n",
      "Variance:  2.0\n"
     ]
    }
   ],
   "source": [
    "# Mean \n",
    "arr = np.array([1, 2, 3, 4, 5])\n",
    "n = len(arr) # total number of elements \n",
    "\n",
    "\n",
    "\n",
    "# sum of elements = 1 + 2 + 3 + 4 + 5 = 15\n",
    "# mean = 15/5 = 3\n",
    "sum1=0\n",
    "for x in arr:\n",
    "    sum1 = sum1 + x\n",
    "    \n",
    "mean = sum1 / n\n",
    "print(f\"Mean: {mean}\")\n",
    "\n",
    "####################################\n",
    "# Median \n",
    "arr = np.array([1, 2, 3, 4, 5])\n",
    "sorted_arr = np.sort(arr)\n",
    "length = len(sorted_arr)\n",
    "length1 = 0\n",
    "\n",
    "if length % 2 == 0:\n",
    "    median = (arr[length//2] + arr[length//2 -1])/2\n",
    "# The // operator ensures that the result is an integer, discarding the fractional part.\n",
    "\n",
    "else:\n",
    "    length1 = (length-1)//2\n",
    "    median = arr[length1]\n",
    "print(f\"The Median is:  {median}\")\n",
    "#####################################\n",
    "\n",
    "# Standard Deviation and Variance\n",
    "arr = np.array([1, 2, 3, 4, 5])\n",
    "sorted_arr = np.sort(arr)\n",
    "sum2 = 0\n",
    "for x in sorted_arr:\n",
    "    sum2 = sum2 + ((x - mean) ** 2)\n",
    "    \n",
    "# (1-3)^2 + (2-3)^2 + (3-3)^2 + (4-3)^2 + (5-3)^2\n",
    "# 4 + 1 + 0 + 1 + 4 = 10\n",
    "# 10 / 5 = 2\n",
    "# Square Root of 2 = 1.4142135623730951\n",
    "    \n",
    "std = np.sqrt((sum2)/n)\n",
    "Variance = (sum2)/n\n",
    "print(f\"Standard Deviation:  {std}\")\n",
    "print(f\"Variance:  {Variance}\")"
   ]
  },
  {
   "cell_type": "markdown",
   "metadata": {},
   "source": [
    "## From First Principles --- Mode"
   ]
  },
  {
   "cell_type": "code",
   "execution_count": 93,
   "metadata": {},
   "outputs": [],
   "source": [
    "import numpy as np\n",
    "\n",
    "arr = np.array([1, 2, 3, 2, 4, 5, 3, 3, 4, 4])\n",
    "n = len(arr)"
   ]
  },
  {
   "cell_type": "code",
   "execution_count": 94,
   "metadata": {},
   "outputs": [],
   "source": [
    "unique_elements, counts = np.unique(arr, return_counts=True)"
   ]
  },
  {
   "cell_type": "markdown",
   "metadata": {},
   "source": [
    "### Here, we use np.unique() with return_counts=True to get two arrays:\n",
    "\n",
    "### unique_elements: An array containing the unique elements present in the arr array.\n",
    "### counts: An array containing the frequency (count) of each unique element in the arr array.\n",
    "### For the given arr, unique_elements will be [1 2 3 4 5] and counts will be [1 2 2 3 1]. This means there is one occurrence of 1, two occurrences of 2, two occurrences of 3, three occurrences of 4, and one occurrence of 5 in the array."
   ]
  },
  {
   "cell_type": "code",
   "execution_count": 95,
   "metadata": {},
   "outputs": [],
   "source": [
    "mode_indices = np.argwhere(counts == np.max(counts)).flatten()"
   ]
  },
  {
   "cell_type": "markdown",
   "metadata": {},
   "source": [
    "## Next, we use np.max(counts) to find the maximum count (highest frequency) in the counts array, which in this case is 3 (the number 4 occurs three times, which is the highest frequency in the array).\n",
    "\n",
    "## np.argwhere(counts == 3) will give the indices where the counts are equal to 3, which are [3]. We use flatten() to convert the result , a 2D array [[3]] to a 1D array, so mode_indices becomes [3]."
   ]
  },
  {
   "cell_type": "code",
   "execution_count": 96,
   "metadata": {},
   "outputs": [],
   "source": [
    "mode = unique_elements[mode_indices]"
   ]
  },
  {
   "cell_type": "code",
   "execution_count": 97,
   "metadata": {},
   "outputs": [
    {
     "name": "stdout",
     "output_type": "stream",
     "text": [
      "The mode is:  [3 4]\n"
     ]
    }
   ],
   "source": [
    "print(f\"The mode is:  {mode}\")"
   ]
  },
  {
   "cell_type": "markdown",
   "metadata": {},
   "source": [
    "### Finally, we use mode_indices to extract the corresponding elements from unique_elements, which gives us the mode(s) of the array. In this example, the mode is unique_elements[3], which is 4. This means the number 4 occurs most frequently in the arr array.\n",
    "\n",
    "### The code will output the mode of the array, which is 4 in this case.\n",
    "\n",
    "### Keep in mind that the mode(s) can be a single value (unimodal), two values (bimodal), or more values (multimodal) if there are multiple elements with the same highest frequency. The first principles approach helps us manually calculate the mode without relying on built-in functions, providing a deeper understanding of the process."
   ]
  },
  {
   "cell_type": "code",
   "execution_count": null,
   "metadata": {},
   "outputs": [],
   "source": []
  }
 ],
 "metadata": {
  "kernelspec": {
   "display_name": "Python 3",
   "language": "python",
   "name": "python3"
  },
  "language_info": {
   "codemirror_mode": {
    "name": "ipython",
    "version": 3
   },
   "file_extension": ".py",
   "mimetype": "text/x-python",
   "name": "python",
   "nbconvert_exporter": "python",
   "pygments_lexer": "ipython3",
   "version": "3.8.3"
  }
 },
 "nbformat": 4,
 "nbformat_minor": 4
}
