{
 "cells": [
  {
   "cell_type": "markdown",
   "metadata": {},
   "source": [
    "# Function - standalone block of code"
   ]
  },
  {
   "cell_type": "code",
   "execution_count": 14,
   "metadata": {},
   "outputs": [],
   "source": [
    "def square_function(number): # We define a function. square_function is the function name. The argument of the function is number\n",
    "    squared = number ** 2  # Calculate the square of the number using the ** operator. The squared value is stored in a variable called squared.\n",
    "    return squared  # Return the result"
   ]
  },
  {
   "cell_type": "markdown",
   "metadata": {},
   "source": [
    "# Method - associated with objects"
   ]
  },
  {
   "cell_type": "code",
   "execution_count": 15,
   "metadata": {},
   "outputs": [],
   "source": [
    "class Calculator: # we define a class called Calculator\n",
    "    def __init__(self): # Inside the Calculator class, we define the __init__ method, which is the constructor for the class.\n",
    "        pass  # pass statement, which is a placeholder indicating that there is no code to execute.\n",
    "\n",
    "    def square_method(self, number): # The class Calculator has a method called square_method.\n",
    "        squared = number ** 2  # Calculate the square of the number using the ** operator\n",
    "        return squared  # Return the result"
   ]
  },
  {
   "cell_type": "markdown",
   "metadata": {},
   "source": [
    "# Demonstration"
   ]
  },
  {
   "cell_type": "markdown",
   "metadata": {},
   "source": [
    "# Using the function"
   ]
  },
  {
   "cell_type": "code",
   "execution_count": 18,
   "metadata": {},
   "outputs": [
    {
     "name": "stdout",
     "output_type": "stream",
     "text": [
      "Square using function: 25\n"
     ]
    }
   ],
   "source": [
    "number_to_square = 5 # variable number_to_square with the value 5, which will be used as the argument for both the function and the method.\n",
    "result_function = square_function(number_to_square) # We call the square_function with number_to_square as the argument and store the result in a variable called result_function.\n",
    "print(\"Square using function:\", result_function) # We print the result of the function using print(\"Square using function:\", result_func"
   ]
  },
  {
   "cell_type": "markdown",
   "metadata": {},
   "source": [
    "# Using the method"
   ]
  },
  {
   "cell_type": "code",
   "execution_count": 19,
   "metadata": {},
   "outputs": [
    {
     "name": "stdout",
     "output_type": "stream",
     "text": [
      "Square using method: 25\n"
     ]
    }
   ],
   "source": [
    "calculator_obj = Calculator()  # Creating an instance of the Calculator class, called calculator_obj.\n",
    "result_method = calculator_obj.square_method(number_to_square) # We call the square_method on the calculator_obj, passing number_to_square as the argument. \n",
    "                                                                   #  The result is stored in a variable called result_method.\n",
    "print(\"Square using method:\", result_method)  # we print the result of the method using print(\"Square using method:\", result_method)."
   ]
  },
  {
   "cell_type": "code",
   "execution_count": null,
   "metadata": {},
   "outputs": [],
   "source": []
  }
 ],
 "metadata": {
  "kernelspec": {
   "display_name": "Python 3",
   "language": "python",
   "name": "python3"
  },
  "language_info": {
   "codemirror_mode": {
    "name": "ipython",
    "version": 3
   },
   "file_extension": ".py",
   "mimetype": "text/x-python",
   "name": "python",
   "nbconvert_exporter": "python",
   "pygments_lexer": "ipython3",
   "version": "3.8.3"
  }
 },
 "nbformat": 4,
 "nbformat_minor": 4
}
