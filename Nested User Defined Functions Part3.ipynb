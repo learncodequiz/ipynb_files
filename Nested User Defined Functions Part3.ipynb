{
 "cells": [
  {
   "cell_type": "markdown",
   "metadata": {},
   "source": [
    "# Nested Functions"
   ]
  },
  {
   "cell_type": "markdown",
   "metadata": {},
   "source": [
    "## What are nested functions ?\n",
    "\n",
    "### Nested functions, also known as inner functions, are functions defined within the scope of another function. In other words, a function can be declared inside another function, and the inner function can access variables from the outer function. This concept is known as function nesting."
   ]
  },
  {
   "cell_type": "code",
   "execution_count": 9,
   "metadata": {},
   "outputs": [
    {
     "name": "stdout",
     "output_type": "stream",
     "text": [
      "The result is: 8\n"
     ]
    }
   ],
   "source": [
    "def outer_function(x):\n",
    "    def inner_function(y):\n",
    "        return x + y\n",
    "    return inner_function\n",
    "\n",
    "add_five = outer_function(5)\n",
    "result = add_five(3)  # This will return 5 + 3 = 8\n",
    "print(f\"The result is: {result}\")"
   ]
  },
  {
   "cell_type": "markdown",
   "metadata": {},
   "source": [
    "### Calling the Outer Function (add_five = outer_function(5)):\n",
    "\n",
    "### When you call outer_function(5), it returns the inner_function with x set to 5.\n",
    "### The returned inner_function now acts like a standalone function, and it's assigned to the variable add_five.\n",
    "### Calling the Inner Function (add_five(3)):\n",
    "\n",
    "### Now that you have the inner_function as add_five, you can call it with an argument (3 in this case).\n",
    "### Inside the inner_function, x is 5 (from the outer function), and y is 3 (the argument passed to add_five).\n",
    "### So, the inner_function calculates and returns 5 + 3, which is 8."
   ]
  },
  {
   "cell_type": "markdown",
   "metadata": {},
   "source": [
    "# Going by example from part 2 and after using nested functions"
   ]
  },
  {
   "cell_type": "code",
   "execution_count": 12,
   "metadata": {},
   "outputs": [
    {
     "name": "stdout",
     "output_type": "stream",
     "text": [
      "      Name  Age\n",
      "0  Souptik   44\n",
      "1      Sam   20\n",
      "2    Allen   20\n",
      "Souptik's age: 44\n",
      "Sam's age: 20\n",
      "Allen's age: 20\n",
      "Our total age: 84\n"
     ]
    }
   ],
   "source": [
    "import pandas as pd\n",
    "import numpy as np\n",
    "\n",
    "def read_csv_and_add_ages(file_path):\n",
    "    \n",
    "# read_csv_and_add_ages function is the Outer function and returns add_ages(data)\n",
    "    \"\"\"\n",
    "    Description: This function reads a CSV file containing names and ages, \n",
    "    and then adds the ages of people\n",
    "\n",
    "    Return: It returns the total age as a string or an error message\n",
    "    \"\"\"\n",
    "    def add_ages(data):\n",
    "        \n",
    "    # add_ages is the inner function and returns \"Our total age: \" + str(total_age)\n",
    "        \"\"\"\n",
    "        Description: This function adds the ages of people\n",
    "\n",
    "        Return: It returns the total age as a string\n",
    "        \"\"\"\n",
    "       \n",
    "        total_age = 0\n",
    "        for name, age in data.items():\n",
    "                if not np.isnan(age):  # Check if age is not NaN\n",
    "                    print(f\"{name}'s age: {age}\")\n",
    "                    total_age += int(age)  # Convert age to integer before adding\n",
    "        return \"Our total age: \" + str(total_age)\n",
    "        \n",
    "    \n",
    "    try:\n",
    "        # Read the CSV file using pandas\n",
    "        read = pd.read_csv(file_path)\n",
    "        \n",
    "        # Print the data read from the CSV\n",
    "        print(read)\n",
    "        \n",
    "        # Create a dictionary from the DataFrame\n",
    "        data = {row['Name']: row['Age'] for _, row in read.iterrows()}\n",
    "        \n",
    "        # Testing the function with the dictionary created from the DataFrame\n",
    "        return add_ages(data)\n",
    "    except Exception as e:\n",
    "        return \"Error while reading CSV:\", e\n",
    "\n",
    "# Call the main function with the CSV file path\n",
    "result = read_csv_and_add_ages('Data_missing_functions_1.csv')\n",
    "print(result)\n"
   ]
  },
  {
   "cell_type": "markdown",
   "metadata": {},
   "source": [
    "### In this example, I've encapsulated the add_ages function within the read_csv_and_add_ages function. This demonstrates nested functions, where one function (add_ages) is defined inside another function (read_csv_and_add_ages). The nested function can only be accessed within the outer function and provides modularity to your code."
   ]
  },
  {
   "cell_type": "code",
   "execution_count": 4,
   "metadata": {},
   "outputs": [
    {
     "name": "stdout",
     "output_type": "stream",
     "text": [
      "Average: 13.666666666666666\n",
      "Even numbers: [12, 16, 8, 14]\n"
     ]
    }
   ],
   "source": [
    "def calculate_average(numbers):\n",
    "    \"\"\"\n",
    "    Description: This function calculates the average of a list of numbers\n",
    "\n",
    "    Return: It returns the average as a float\n",
    "    \"\"\"\n",
    "    def is_even(number):\n",
    "        \"\"\"\n",
    "        Description: This function checks if a number is even\n",
    "\n",
    "        Return: It returns True if the number is even, False otherwise\n",
    "        \"\"\"\n",
    "        return number % 2 == 0 # Use of modulus operator\n",
    "\n",
    "    total = sum(numbers)\n",
    "    count = len(numbers)\n",
    "    average = total / count\n",
    "\n",
    "    even_numbers = [num for num in numbers if is_even(num)]\n",
    "\n",
    "    return average, even_numbers\n",
    "\n",
    "# Test the outer function\n",
    "number_list = [12, 7, 25, 16, 8, 14]\n",
    "avg, even_nums = calculate_average(number_list)\n",
    "\n",
    "print(f\"Average: {avg}\")\n",
    "print(f\"Even numbers: {even_nums}\")\n"
   ]
  },
  {
   "cell_type": "markdown",
   "metadata": {},
   "source": [
    "### Let's break down the line even_numbers = [num for num in numbers if is_even(num)] step by step:\n",
    "\n",
    "### even_numbers: This is a new list that will store the even numbers from the numbers list.\n",
    "\n",
    "### num for num in numbers: This is a list comprehension. It iterates through each num in the numbers list and assigns each value to the variable num.\n",
    "\n",
    "### if is_even(num): This is a condition that checks if the current value of num (each number in the numbers list) is even. It calls the inner function is_even with the current value of num as an argument.\n",
    "\n",
    "### If the condition is_even(num) is True, the current num is included in the new even_numbers list.\n",
    "\n",
    "### So, the line even_numbers = [num for num in numbers if is_even(num)] essentially creates a new list called even_numbers by iterating through each number in the numbers list and including only the even numbers in the new list. The condition is_even(num) checks if a number is even, and if it's True, that number is added to the even_numbers list."
   ]
  },
  {
   "cell_type": "markdown",
   "metadata": {},
   "source": [
    "### even_numbers = [num for num in numbers if is_even(num)]: This is a list comprehension. It iterates through each num in number_list and checks if is_even(num) is True. If it is, the current num is included in the even_numbers list.\n",
    "\n",
    "### For num = 12, is_even(num) is True, so 12 is included in even_numbers.\n",
    "### For num = 7, is_even(num) is False, so 7 is not included.\n",
    "### For num = 25, is_even(num) is False, so 25 is not included.\n",
    "### For num = 16, is_even(num) is True, so 16 is included.\n",
    "### For num = 8, is_even(num) is True, so 8 is included.\n",
    "### For num = 14, is_even(num) is True, so 14 is included."
   ]
  },
  {
   "cell_type": "code",
   "execution_count": null,
   "metadata": {},
   "outputs": [],
   "source": []
  }
 ],
 "metadata": {
  "kernelspec": {
   "display_name": "Python 3",
   "language": "python",
   "name": "python3"
  },
  "language_info": {
   "codemirror_mode": {
    "name": "ipython",
    "version": 3
   },
   "file_extension": ".py",
   "mimetype": "text/x-python",
   "name": "python",
   "nbconvert_exporter": "python",
   "pygments_lexer": "ipython3",
   "version": "3.8.3"
  }
 },
 "nbformat": 4,
 "nbformat_minor": 4
}
