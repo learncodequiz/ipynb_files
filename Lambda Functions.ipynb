{
 "cells": [
  {
   "cell_type": "markdown",
   "metadata": {},
   "source": [
    "# Lambda functions "
   ]
  },
  {
   "cell_type": "code",
   "execution_count": 5,
   "metadata": {},
   "outputs": [
    {
     "name": "stdout",
     "output_type": "stream",
     "text": [
      "The result is: 8\n",
      "The result is: 8\n"
     ]
    }
   ],
   "source": [
    "# Regular function\n",
    "def add(x, y):\n",
    "    return x + y\n",
    "\n",
    "# Equivalent lambda function\n",
    "add_lambda = lambda x, y: x + y\n",
    "\n",
    "# Using both functions\n",
    "result1 = add(3, 5)\n",
    "result2 = add_lambda(3, 5)\n",
    "\n",
    "print(f\"The result is: {result1}\")  # Output: 8\n",
    "print(f\"The result is: {result2}\")  # Output: 8"
   ]
  },
  {
   "cell_type": "markdown",
   "metadata": {},
   "source": [
    "### In this example, we define a regular function add that takes two parameters and returns their sum. We then create an equivalent lambda function add_lambda that does the same thing. Both functions are used to add 3 and 5, resulting in the same output of 8. Lambda functions are a concise way to define small, anonymous functions without the need for a separate def statement."
   ]
  },
  {
   "cell_type": "code",
   "execution_count": 6,
   "metadata": {},
   "outputs": [
    {
     "name": "stdout",
     "output_type": "stream",
     "text": [
      "      Name  Age\n",
      "0  Souptik   44\n",
      "1      Sam   20\n",
      "2    Allen   20\n",
      "Our total age: 84\n"
     ]
    }
   ],
   "source": [
    "import pandas as pd\n",
    "import numpy as np\n",
    "\n",
    "def read_csv_and_add_ages(file_path):\n",
    "    \"\"\"\n",
    "    Description: This function reads a CSV file containing names and ages, \n",
    "    and then adds the ages of people\n",
    "\n",
    "    Return: It returns the total age as a string or an error message\n",
    "    \"\"\"\n",
    "    add_ages = lambda data: \"Our total age: \" + str(sum(int(age) for age in data.values() if not np.isnan(age)))\n",
    "    \n",
    "    try:\n",
    "        # Read the CSV file using pandas\n",
    "        read = pd.read_csv(file_path)\n",
    "        \n",
    "        # Print the data read from the CSV\n",
    "        print(read)\n",
    "        \n",
    "        # Create a dictionary from the DataFrame\n",
    "        data = {row['Name']: row['Age'] for _, row in read.iterrows()}\n",
    "        \n",
    "        # Testing the lambda function with the dictionary created from the DataFrame\n",
    "        return add_ages(data)\n",
    "    except Exception as e:\n",
    "        return \"Error while reading CSV:\", e\n",
    "\n",
    "# Call the main function with the CSV file path\n",
    "result = read_csv_and_add_ages('Data_missing_functions_1.csv')\n",
    "print(result)\n"
   ]
  },
  {
   "cell_type": "markdown",
   "metadata": {},
   "source": [
    "### add_ages = lambda data:: This line defines a lambda function named add_ages that takes a single argument data. The lambda function is essentially an anonymous function, meaning it doesn't have a formal name. It's defined using the lambda keyword.\n",
    "\n",
    "###  \"Our total age: \" + str(...): This part of the lambda function creates a string that starts with the text \"Our total age: \". The rest of the string will be generated using the expression inside the parentheses.\n",
    "\n",
    "# sum(int(age) for age in data.values() if not np.isnan(age)): \n",
    "\n",
    "### This expression calculates the sum of ages using a generator expression. Here's how it works:\n",
    "\n",
    "### for age in data.values(): This part iterates over the values of the data dictionary, which are the ages stored in the CSV file.\n",
    "\n",
    "### if not np.isnan(age): This part filters out the ages that are not NaN (Not a Number). It uses the np.isnan() function from the NumPy library to check if an age is a valid number.\n",
    "\n",
    "### int(age): This part converts each age to an integer.\n",
    "\n",
    "### The sum() function then calculates the sum of the valid ages.\n",
    "\n",
    "### Putting it all together, the lambda function calculates the sum of valid ages and returns a string that combines \"Our total age: \" with the calculated sum, effectively giving you the total age of the individuals.\n",
    "\n",
    "### In the context of your code, this lambda function is assigned to the variable add_ages, which you can then use to compute the total age from the given dictionary of ages."
   ]
  },
  {
   "cell_type": "code",
   "execution_count": null,
   "metadata": {},
   "outputs": [],
   "source": []
  }
 ],
 "metadata": {
  "kernelspec": {
   "display_name": "Python 3",
   "language": "python",
   "name": "python3"
  },
  "language_info": {
   "codemirror_mode": {
    "name": "ipython",
    "version": 3
   },
   "file_extension": ".py",
   "mimetype": "text/x-python",
   "name": "python",
   "nbconvert_exporter": "python",
   "pygments_lexer": "ipython3",
   "version": "3.8.3"
  }
 },
 "nbformat": 4,
 "nbformat_minor": 4
}
