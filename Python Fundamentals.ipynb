{
 "cells": [
  {
   "cell_type": "markdown",
   "metadata": {},
   "source": [
    "# Python:\n",
    "\n",
    "### General-Purpose Language: Python is a versatile and high-level programming language known for its readability and simplicity. It's suitable for various applications, including web development, data analysis, scientific computing, artificial intelligence, and more.\n",
    "\n",
    "### Interpreted Language: Python is interpreted, which means you can write and run code directly without the need for compiling. This leads to quicker development cycles and easier debugging.\n",
    "\n",
    "#### In compiled languages (e.g., C++, Java), code is first transformed into machine-readable instructions by a compiler. These instructions are stored in an executable file, which can be directly executed by the computer's hardware.\n",
    "#### In interpreted languages (e.g., Python, JavaScript), code is not compiled into machine instructions. Instead, it's executed by an interpreter, which reads the code line by line and executes the corresponding actions.\n",
    "\n",
    "### Dynamic Typing: Python is dynamically typed, meaning you don't need to declare variable types explicitly. The interpreter determines the type of a variable during runtime.\n",
    "\n",
    "### Extensive Standard Library: Python's standard library provides a wide range of modules and functions that facilitate common programming tasks, reducing the need to reinvent the wheel.\n",
    "\n",
    "### Rich Ecosystem: Python has a vast ecosystem of third-party libraries and frameworks that cater to different domains. For example, \n",
    "#### NumPy and pandas for data analysis, \n",
    "#### Flask and Django for web development, \n",
    "#### TensorFlow and PyTorch for machine learning, and more.\n",
    "\n"
   ]
  },
  {
   "cell_type": "markdown",
   "metadata": {},
   "source": [
    "### Indentation-Based Syntax: Python's unique feature is its significant use of whitespace (indentation) to indicate block structure. This promotes clean and readable code.\n",
    "\n"
   ]
  },
  {
   "cell_type": "code",
   "execution_count": 1,
   "metadata": {},
   "outputs": [
    {
     "name": "stdout",
     "output_type": "stream",
     "text": [
      "Hi there!\n",
      "Nice to meet you!\n",
      "Hi there!\n",
      "Nice to meet you!\n"
     ]
    }
   ],
   "source": [
    " def greet(name):\n",
    "    if len(name) > 5:\n",
    "        print(\"Hello,\", name)\n",
    "        print(\"How are you?\")\n",
    "    else:\n",
    "        print(\"Hi there!\")\n",
    "    print(\"Nice to meet you!\")\n",
    "\n",
    " # Call the greet function\n",
    " greet(\"Alice\")\n",
    " greet(\"Bob\")\n",
    "\n",
    "\n"
   ]
  },
  {
   "cell_type": "markdown",
   "metadata": {},
   "source": [
    "### Cross-Platform: Python is cross-platform, meaning you can write code on one operating system and run it on another without major modifications.\n",
    "\n",
    "### Community and Support: Python has a large and active community of developers, which means you'll find extensive documentation, tutorials, and forums to help you troubleshoot and learn.\n"
   ]
  },
  {
   "cell_type": "markdown",
   "metadata": {},
   "source": [
    "### Object-Oriented: Python supports object-oriented programming (OOP) principles, allowing you to create reusable and modular code through classes and objects.\n",
    "\n"
   ]
  },
  {
   "cell_type": "markdown",
   "metadata": {},
   "source": [
    "#### Classes and Objects: In Python, you can define your own classes using the class keyword. A class is a blueprint that defines the attributes (variables) and methods (functions) that its objects will have. Objects are instances of these classes.\n",
    "\n",
    "#### Inheritance: Inheritance allows you to create a new class that inherits attributes and methods from an existing class. The new class is called the subclass or derived class, and the existing class is the superclass or base class. Python supports single inheritance, where a class can inherit from only one superclass.\n",
    "\n",
    "#### Class Attributes and Instance Attributes: Class attributes are shared among all instances of a class, while instance attributes are unique to each instance. Class attributes are defined within the class but outside any methods, whereas instance attributes are defined within methods using the self keyword.\n",
    "\n",
    "#### Constructor and Destructor: Python classes have a special method called __init__ that acts as a constructor and is called when an object is created. There's also a __del__ method that acts as a destructor and is called when an object is about to be destroyed.\n",
    "\n"
   ]
  },
  {
   "cell_type": "markdown",
   "metadata": {},
   "source": [
    "### Readable and Expressive: Python emphasizes code readability, making it easy to understand and maintain. Its expressive syntax allows you to achieve more with fewer lines of code."
   ]
  },
  {
   "cell_type": "code",
   "execution_count": 2,
   "metadata": {},
   "outputs": [
    {
     "name": "stdout",
     "output_type": "stream",
     "text": [
      "The square of 1 is 1\n",
      "The square of 2 is 4\n",
      "The square of 3 is 9\n",
      "The square of 4 is 16\n",
      "The square of 5 is 25\n"
     ]
    }
   ],
   "source": [
    "# Printing the squares of numbers from 1 to 5\n",
    "for num in range(1, 6):\n",
    "    print(f\"The square of {num} is {num ** 2}\")"
   ]
  },
  {
   "cell_type": "markdown",
   "metadata": {},
   "source": [
    "#### The for loop iterates through the numbers from 1 to 5.\n",
    "#### The print statement uses an f-string to display the square of each number.\n",
    "#### Python's readability and expressive syntax are evident here as well:\n",
    "\n",
    "#### The for loop is visually clear and easy to understand.\n",
    "#### The use of an f-string in the print statement allows easy interpolation of values.\n",
    "#### The combination of clean indentation and expressive elements like f-strings makes Python code concise and understandable."
   ]
  }
 ],
 "metadata": {
  "kernelspec": {
   "display_name": "Python 3",
   "language": "python",
   "name": "python3"
  },
  "language_info": {
   "codemirror_mode": {
    "name": "ipython",
    "version": 3
   },
   "file_extension": ".py",
   "mimetype": "text/x-python",
   "name": "python",
   "nbconvert_exporter": "python",
   "pygments_lexer": "ipython3",
   "version": "3.8.3"
  }
 },
 "nbformat": 4,
 "nbformat_minor": 4
}
