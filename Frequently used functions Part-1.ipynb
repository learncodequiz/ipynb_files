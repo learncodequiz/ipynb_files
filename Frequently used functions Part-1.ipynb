{
 "cells": [
  {
   "cell_type": "markdown",
   "metadata": {},
   "source": [
    "# print()\n",
    "Explanation: The print() function is used to display output on the console.\n",
    "\n",
    "Arguments:\n",
    "\n",
    "*objects: One or more objects to be displayed. You can pass multiple objects separated by commas.\n",
    "sep: (optional) The separator between the objects. The default is a space.\n",
    "end: (optional) The string to be appended after all objects have been printed. The default is a newline character.\n",
    "How to call:"
   ]
  },
  {
   "cell_type": "code",
   "execution_count": 1,
   "metadata": {},
   "outputs": [
    {
     "name": "stdout",
     "output_type": "stream",
     "text": [
      "Hello, world!\n",
      "Python-is-awesome\n",
      "This is a sentence.No new line after this.\n"
     ]
    }
   ],
   "source": [
    "print(\"Hello, world!\")  # Basic usage\n",
    "print(\"Python\", \"is\", \"awesome\", sep=\"-\")  # Output: Python-is-awesome\n",
    "print(\"This is a sentence.\", end=\"\")  # Output: This is a sentence.\n",
    "print(\"No new line after this.\")"
   ]
  },
  {
   "cell_type": "markdown",
   "metadata": {},
   "source": [
    "# len()\n",
    "Explanation: The len() function is used to get the length of sequences like strings, lists, tuples, etc.\n",
    "\n",
    "Arguments:\n",
    "\n",
    "sequence: The sequence for which you want to find the length.\n",
    "How to call:"
   ]
  },
  {
   "cell_type": "code",
   "execution_count": 4,
   "metadata": {},
   "outputs": [
    {
     "name": "stdout",
     "output_type": "stream",
     "text": [
      "6\n"
     ]
    }
   ],
   "source": [
    "length = len(\"Python\")  # Output: 6\n",
    "print(length)"
   ]
  },
  {
   "cell_type": "markdown",
   "metadata": {},
   "source": [
    "# range()\n",
    "Explanation: The range() function creates a sequence of numbers.\n",
    "\n",
    "Arguments:\n",
    "\n",
    "start: (optional) The starting value (default is 0).\n",
    "stop: The ending value (exclusive).\n",
    "step: (optional) The step size (default is 1)."
   ]
  },
  {
   "cell_type": "code",
   "execution_count": 5,
   "metadata": {},
   "outputs": [
    {
     "name": "stdout",
     "output_type": "stream",
     "text": [
      "1 2 3 4 5 6 7 8 9 10 "
     ]
    }
   ],
   "source": [
    "for num in range(1, 11):\n",
    "    print(num, end=\" \")  # Output: 1 2 3 4 5 6 7 8 9 10"
   ]
  },
  {
   "cell_type": "markdown",
   "metadata": {},
   "source": [
    "# str(), int(), float()\n",
    "Explanation: These functions are used to convert values between different data types.\n",
    "\n",
    "Arguments:\n",
    "\n",
    "value: The value to be converted.\n",
    "How to call:"
   ]
  },
  {
   "cell_type": "code",
   "execution_count": 7,
   "metadata": {},
   "outputs": [
    {
     "name": "stdout",
     "output_type": "stream",
     "text": [
      "42\n",
      "10\n",
      "3.14\n"
     ]
    }
   ],
   "source": [
    "str_value = str(42)  # Convert to string: \"42\"\n",
    "int_value = int(\"10\")  # Convert to integer: 10\n",
    "float_value = float(\"3.14\")  # Convert to float: 3.14\n",
    "print(str_value)\n",
    "print(int_value)\n",
    "print(float_value)"
   ]
  },
  {
   "cell_type": "markdown",
   "metadata": {},
   "source": [
    "# sorted()\n",
    "Explanation: The sorted() function sorts an iterable and returns a new sorted list.\n",
    "\n",
    "Arguments:\n",
    "\n",
    "iterable: The iterable to be sorted.\n",
    "key: (optional) A function to customize the sorting criteria.\n",
    "reverse: (optional) If set to True, sorts in descending order; otherwise, sorts in ascending order.\n",
    "How to call:"
   ]
  },
  {
   "cell_type": "code",
   "execution_count": 8,
   "metadata": {},
   "outputs": [
    {
     "name": "stdout",
     "output_type": "stream",
     "text": [
      "[1, 2, 3, 4, 5]\n",
      "['Bob', 'Eve', 'Alice', 'Charlie']\n"
     ]
    }
   ],
   "source": [
    "numbers = [5, 1, 3, 2, 4]\n",
    "sorted_numbers = sorted(numbers)  # Output: [1, 2, 3, 4, 5]\n",
    "print(sorted_numbers)\n",
    "\n",
    "names = [\"Alice\", \"Bob\", \"Charlie\", \"Eve\"]\n",
    "sorted_names = sorted(names, key=len)  # Sort by length: [\"Bob\", \"Eve\", \"Alice\", \"Charlie\"]\n",
    "print(sorted_names)"
   ]
  },
  {
   "cell_type": "markdown",
   "metadata": {},
   "source": [
    "# append()\n",
    "Explanation: The append() method is used to add an element to the end of a list.\n",
    "\n",
    "Arguments:\n",
    "\n",
    "element: The element to be added to the list.\n",
    "How to call:"
   ]
  },
  {
   "cell_type": "code",
   "execution_count": 9,
   "metadata": {},
   "outputs": [
    {
     "name": "stdout",
     "output_type": "stream",
     "text": [
      "['apple', 'banana', 'orange', 'grape']\n"
     ]
    }
   ],
   "source": [
    "fruits = [\"apple\", \"banana\", \"orange\"]\n",
    "fruits.append(\"grape\")\n",
    "print(fruits)  # Output: ['apple', 'banana', 'orange', 'grape']"
   ]
  },
  {
   "cell_type": "markdown",
   "metadata": {},
   "source": [
    "# join()\n",
    "Explanation: The join() method is used to concatenate elements of an iterable (e.g., list) into a single string.\n",
    "\n",
    "Arguments:\n",
    "\n",
    "iterable: The iterable containing the elements to be joined."
   ]
  },
  {
   "cell_type": "code",
   "execution_count": 11,
   "metadata": {},
   "outputs": [
    {
     "name": "stdout",
     "output_type": "stream",
     "text": [
      "Hello world Python\n"
     ]
    }
   ],
   "source": [
    "words = [\"Hello\", \"world\", \"Python\"]\n",
    "sentence = \" \".join(words)\n",
    "print(sentence)  # Output: \"Hello world Python\""
   ]
  },
  {
   "cell_type": "markdown",
   "metadata": {},
   "source": [
    "# split()\n",
    "Explanation: The split() method is used to split a string into a list of substrings based on a specified separator.\n",
    "\n",
    "Arguments:\n",
    "\n",
    "sep: (optional) The separator on which to split the string. If not provided, it splits on whitespace.\n",
    "How to call:"
   ]
  },
  {
   "cell_type": "code",
   "execution_count": 13,
   "metadata": {},
   "outputs": [
    {
     "name": "stdout",
     "output_type": "stream",
     "text": [
      "['Hello', 'world', 'Python']\n"
     ]
    }
   ],
   "source": [
    "sentence = \"Hello world Python\"\n",
    "words = sentence.split()\n",
    "print(words)  # Output: ['Hello', 'world', 'Python']"
   ]
  },
  {
   "cell_type": "markdown",
   "metadata": {},
   "source": [
    "# max() and min()\n",
    "Explanation: The max() and min() functions are used to find the maximum and minimum values, respectively, from an iterable.\n",
    "\n",
    "Arguments:\n",
    "\n",
    "*args: One or more iterables from which the maximum or minimum value will be determined.\n",
    "key: (optional) A function to customize the comparison criteria.\n",
    "How to call:"
   ]
  },
  {
   "cell_type": "code",
   "execution_count": 16,
   "metadata": {},
   "outputs": [
    {
     "name": "stdout",
     "output_type": "stream",
     "text": [
      "Maximum: 9\n",
      "Minimum: 1\n",
      "Longest Name: Charlie\n"
     ]
    }
   ],
   "source": [
    "numbers = [5, 1, 9, 3, 7]\n",
    "maximum = max(numbers)  # Output: 9\n",
    "minimum = min(numbers)  # Output: 1\n",
    "print(\"Maximum:\", maximum)\n",
    "print(\"Minimum:\", minimum)\n",
    "\n",
    "names = [\"Alice\", \"Bob\", \"Charlie\", \"Eve\"]\n",
    "longest_name = max(names, key=len)  # Output: \"Charlie\"\n",
    "print(\"Longest Name:\", longest_name)"
   ]
  },
  {
   "cell_type": "markdown",
   "metadata": {},
   "source": [
    "# sum()\n",
    "Explanation: The sum() function returns the sum of all elements in an iterable.\n",
    "\n",
    "Arguments:\n",
    "\n",
    "iterable: The iterable containing elements to be summed.\n",
    "How to call:"
   ]
  },
  {
   "cell_type": "code",
   "execution_count": 17,
   "metadata": {},
   "outputs": [
    {
     "name": "stdout",
     "output_type": "stream",
     "text": [
      "Sum of numbers in the list: 15\n"
     ]
    }
   ],
   "source": [
    "numbers = [1, 2, 3, 4, 5]\n",
    "total = sum(numbers)  # Output: 15\n",
    "print(\"Sum of numbers in the list:\",total)"
   ]
  },
  {
   "cell_type": "code",
   "execution_count": null,
   "metadata": {},
   "outputs": [],
   "source": []
  }
 ],
 "metadata": {
  "kernelspec": {
   "display_name": "Python 3",
   "language": "python",
   "name": "python3"
  },
  "language_info": {
   "codemirror_mode": {
    "name": "ipython",
    "version": 3
   },
   "file_extension": ".py",
   "mimetype": "text/x-python",
   "name": "python",
   "nbconvert_exporter": "python",
   "pygments_lexer": "ipython3",
   "version": "3.8.3"
  }
 },
 "nbformat": 4,
 "nbformat_minor": 4
}
