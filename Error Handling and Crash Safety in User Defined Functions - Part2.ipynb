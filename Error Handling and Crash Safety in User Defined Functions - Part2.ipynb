{
 "cells": [
  {
   "cell_type": "markdown",
   "metadata": {},
   "source": [
    "# Error handling - use of try and except keywords "
   ]
  },
  {
   "cell_type": "markdown",
   "metadata": {},
   "source": [
    "## try and except are keywords used to implement exception handling, which is a mechanism for handling errors and exceptions that might occur during the execution of a program. Exception handling helps prevent the program from crashing when unexpected situations or errors arise."
   ]
  },
  {
   "cell_type": "markdown",
   "metadata": {},
   "source": [
    "## A simple example of try and except keywords"
   ]
  },
  {
   "cell_type": "code",
   "execution_count": null,
   "metadata": {},
   "outputs": [],
   "source": [
    "def divide(a, b):\n",
    "    \"\"\"\n",
    "    Description: This function divides two numbers and returns the result, \n",
    "    while handling zero division errors.\n",
    "\n",
    "    Args:\n",
    "        a (float): The numerator.\n",
    "        b (float): The denominator.\n",
    "\n",
    "    Returns:\n",
    "        float or str: The result of the division or an error message if the denominator is zero.\n",
    "    \"\"\"\n",
    "    try:\n",
    "        if b == 0:\n",
    "            raise ValueError(\"Denominator cannot be zero\")\n",
    "        result = a / b\n",
    "        return result\n",
    "    except ValueError as ve:\n",
    "        return f\"Error: {ve}\"\n",
    "\n",
    "# Example usage\n",
    "numerator = 10\n",
    "denominator = 0  # Using a floating-point zero\n",
    "\n",
    "result = divide(numerator, denominator)\n",
    "print(result)"
   ]
  },
  {
   "cell_type": "markdown",
   "metadata": {},
   "source": [
    "### In this code, the divide function takes two arguments a and b representing the numerator and denominator, respectively. The function attempts to perform the division operation, but if the denominator is zero, it raises a ValueError with the message \"Denominator cannot be zero.\" This error is caught by the except block, and the corresponding error message is returned. The function's docstring provides a description of its purpose, the arguments it takes, and the possible return values."
   ]
  },
  {
   "cell_type": "markdown",
   "metadata": {},
   "source": [
    "### Going back to the example in User Defined Functions in Python Part-1\n",
    "\n",
    "### Reading data from a dictionary "
   ]
  },
  {
   "cell_type": "code",
   "execution_count": 2,
   "metadata": {},
   "outputs": [
    {
     "name": "stdout",
     "output_type": "stream",
     "text": [
      "Souptik's age: 44\n",
      "Sam's age: 20\n",
      "Error occurred: unsupported operand type(s) for +=: 'int' and 'str'\n"
     ]
    }
   ],
   "source": [
    "def add_ages(ages):\n",
    "    \"\"\"\n",
    "    Description: This function adds the ages of three people\n",
    "\n",
    "    Return: It returns the total age as a string\n",
    "    \"\"\"\n",
    "    try:\n",
    "        total_age = 0\n",
    "        for name, age in ages.items(): \n",
    "# ages.items() refers to a method used on a dictionary to retrieve a view of the \n",
    "# key-value pairs (items) within that dictionary. \n",
    "            print(f\"{name}'s age: {age}\")\n",
    "            total_age += age\n",
    "        return \"Our total age: \" + str(total_age)\n",
    "    except Exception as e:\n",
    "        return \"Error occurred: \" + str(e)\n",
    "\n",
    "# Testing the function with a dictionary of ages\n",
    "print(add_ages({'Souptik': 44, 'Sam': '20' , 'Allen': 20}))"
   ]
  },
  {
   "cell_type": "markdown",
   "metadata": {},
   "source": [
    "### 1. Function Definition and Description:\n",
    "\n",
    "### def add_ages(ages):\n",
    "### # Testing the function with a dictionary of ages\n",
    "### print(add_ages({'Souptik': 44, 'Sam': '32', 'Allen': 20}))\n",
    "\n",
    "### The add_ages function takes a dictionary ages as an input parameter. It aims to calculate the total age by iterating through the items (key-value pairs) of the dictionary and summing up the ages.\n",
    "\n",
    "### 2. try Block:\n",
    "### The try block is used to enclose the code that might raise an exception. In this case, the code inside the try block attempts to iterate through the items in the ages dictionary and calculate the total age.\n",
    "\n",
    "### try:\n",
    "###        total_age = 0\n",
    "###        for name, age in ages.items():\n",
    "###           print(f\"{name}'s age: {age}\")\n",
    "###           total_age += age\n",
    "###        return \"Our total age: \" + str(total_age)\n",
    "\n",
    "### total_age = 0: Initializes a variable to store the cumulative age.\n",
    "\n",
    "### for name, age in ages.items():: This loop iterates through the items (key-value pairs) in the ages dictionary. In each iteration, the variable name is assigned the key (person's name), and the variable age is assigned the value (person's age).\n",
    "\n",
    "### print(f\"{name}'s age: {age}\"): This line prints the name and age of each person in a formatted string.\n",
    "\n",
    "### total_age += age: This line adds the current age to the total_age in each iteration, effectively summing up the ages.\n",
    "\n",
    "### 3. except Block:\n",
    "### If an exception occurs within the try block, the code within the corresponding except block is executed. The except block provides a way to handle errors gracefully and provide informative feedback to the user.\n",
    "\n",
    "### except Exception as e:\n",
    "###        return \"Error occurred: \" + str(e)\n",
    "\n",
    "### except Exception as e:: This line specifies that the following code should be executed if any exception of type Exception occurs. The variable e is used to capture the exception instance.\n",
    "\n",
    "### In Python, Exception is the base class for all built-in exceptions. It serves as a superclass for more specific exception classes, such as ValueError, TypeError, KeyError, and many others. When you catch an exception using except Exception, you're essentially catching any type of exception that can occur in your code.\n",
    "\n",
    "### return \"Error occurred: \" + str(e): This line returns an error message along with the description of the exception captured in e. The str(e) converts the exception instance to a string to include it in the error message.\n",
    "\n",
    "### The error message \"unsupported operand type(s) for +=: 'int' and 'str'\" indicates that you're trying to perform addition (+=) between an integer (int) and a string (str), which is not allowed in Python due to their incompatible data types.\n",
    "\n",
    "### In essence, this code ensures that even if errors occur while processing the dictionary items (e.g., invalid age format, missing age, etc.), the program won't crash. Instead, it will catch the errors, provide an error message to the user, and continue running. This enhances the user experience and helps developers diagnose and address issues in the code.\n",
    "\n",
    "\n",
    "\n",
    "\n"
   ]
  },
  {
   "cell_type": "markdown",
   "metadata": {},
   "source": [
    "### Reading data from a .csv file "
   ]
  },
  {
   "cell_type": "code",
   "execution_count": 3,
   "metadata": {},
   "outputs": [
    {
     "name": "stderr",
     "output_type": "stream",
     "text": [
      "C:\\Users\\soupt\\AppData\\Roaming\\Python\\Python38\\site-packages\\pandas\\core\\computation\\expressions.py:20: UserWarning: Pandas requires version '2.7.3' or newer of 'numexpr' (version '2.7.1' currently installed).\n",
      "  from pandas.core.computation.check import NUMEXPR_INSTALLED\n"
     ]
    },
    {
     "name": "stdout",
     "output_type": "stream",
     "text": [
      "      Name  Age\n",
      "0  Souptik   44\n",
      "1      Sam   20\n",
      "2    Allen   20\n",
      "Souptik's age: 44\n",
      "Sam's age: 20\n",
      "Allen's age: 20\n",
      "Our total age: 84\n"
     ]
    }
   ],
   "source": [
    "# Section 1\n",
    "import pandas as pd\n",
    "import numpy as np\n",
    "\n",
    "# Section 2\n",
    "def add_ages(data):\n",
    "    \"\"\"\n",
    "    Description: This function adds the ages of people\n",
    "\n",
    "    Return: It returns the total age as a string\n",
    "    \"\"\"\n",
    "    total_age = 0\n",
    "    for name, age in data.items():\n",
    "            if not np.isnan(age):  # Check if age is not NaN\n",
    "                print(f\"{name}'s age: {age}\")\n",
    "                total_age += int(age)  # Convert age to integer before adding\n",
    "    return \"Our total age: \" + str(total_age)\n",
    "    \n",
    "# Section 3\n",
    "# Read the CSV file using pandas\n",
    "try:\n",
    "    read = pd.read_csv('Data_missing_functions_1.csv')\n",
    "    \n",
    "    # Print the data read from the CSV\n",
    "    print(read)\n",
    "    \n",
    "    # Create a dictionary from the DataFrame\n",
    "    data = {row['Name']: row['Age'] for _, row in read.iterrows()}\n",
    "    \n",
    "    # Testing the function with the dictionary created from the DataFrame\n",
    "    print(add_ages(data))\n",
    "except Exception as e:\n",
    "    print(\"Error while reading CSV:\", e)\n"
   ]
  },
  {
   "cell_type": "markdown",
   "metadata": {},
   "source": [
    "## Section 1\n",
    "\n",
    "### These lines import the pandas library as 'pd' and the numpy library as 'np'. Pandas is used for data manipulation and analysis, while numpy provides support for mathematical operations on arrays."
   ]
  },
  {
   "cell_type": "markdown",
   "metadata": {},
   "source": [
    "## Section 2 \n",
    "\n",
    "### This section defines a function named add_ages(data) that takes a dictionary data as input. The function is designed to add ages from the dictionary and return the total age.\n",
    "### The try block is used to handle any potential errors that might occur during the execution of the code.\n",
    "### Inside the try block, total_age is initialized as 0 to store the cumulative age.\n",
    "### The for loop iterates through the key-value pairs in the dictionary data. Each pair represents a person's name and age.\n",
    "### The if condition checks if the age is not a NaN (Not a Number) value. If it's not NaN, the age is added to the total age after converting it to an integer using int(age).\n",
    "### The return statement returns a string that displays the total age."
   ]
  },
  {
   "cell_type": "markdown",
   "metadata": {},
   "source": [
    "## Section 3\n",
    "\n",
    "### The try block is used to handle any errors that might occur while reading the CSV file.\n",
    "### pd.read_csv('Data_missing_functions_1.csv') reads the CSV file named 'Data_missing_functions_1.csv' and stores its contents in the variable read.\n",
    "### The next line prints the data read from the CSV file using print(read).\n",
    "### The code then creates a dictionary named data using a dictionary comprehension. It iterates through each row of the DataFrame read and extracts the 'Name' and 'Age' values from each row to create key-value pairs in the dictionary.\n",
    "### Finally, the code calls the add_ages(data) function with the created dictionary data as input and prints the result."
   ]
  },
  {
   "cell_type": "markdown",
   "metadata": {},
   "source": [
    "## Explanation for:\n",
    "### data = {row['Name']: row['Age'] for _, row in read.iterrows()}\n",
    "### This line is using a dictionary comprehension to create a dictionary called data from the rows of the DataFrame read obtained from reading the CSV file.\n",
    "\n",
    "### data is the name of the dictionary that we are creating to store the key-value pairs.\n",
    "### row['Name'] and row['Age'] are the values that we are extracting from each row in the DataFrame.\n",
    "### read.iterrows() is used to iterate through the rows of the DataFrame read.\n",
    "### Let's break down the iteration process step by step:\n",
    "\n",
    "### read.iterrows() returns an iterator that provides pairs of indices and rows from the DataFrame read. Each pair consists of an index (denoted by _) and a row (denoted by row).\n",
    "### {row['Name']: row['Age'] for _, row in read.iterrows()} iterates through each pair of index and row.\n",
    "### For each pair, it creates a dictionary entry where the 'Name' column value from the current row becomes the key, and the 'Age' column value from the current row becomes the corresponding value in the dictionary.\n",
    "### So, for each row in the DataFrame, the code extracts the 'Name' and 'Age' values, and using the dictionary comprehension, it creates a key-value pair in the data dictionary. This results in a dictionary where each person's name corresponds to their age.\n",
    "\n",
    "### In the context of your code, this dictionary data is then passed as input to the add_ages(data) function to perform the desired age calculation and printing."
   ]
  },
  {
   "cell_type": "code",
   "execution_count": null,
   "metadata": {},
   "outputs": [],
   "source": [
    "# Suppose you have the following DataFrame df:\n",
    "\n",
    "import pandas as pd\n",
    "\n",
    "data = {'Name': ['Alice', 'Bob', 'Charlie'],\n",
    "        'Age': [25, 30, 22]}\n",
    "\n",
    "df = pd.DataFrame(data)\n",
    "\n",
    "print(df)\n",
    "\n"
   ]
  },
  {
   "cell_type": "code",
   "execution_count": null,
   "metadata": {},
   "outputs": [],
   "source": [
    "\n",
    "# Now, let's use the iteration syntax:\n",
    "\n",
    "\n",
    "for _, row in df.iterrows():\n",
    "    print(row)\n"
   ]
  },
  {
   "cell_type": "markdown",
   "metadata": {},
   "source": [
    "### In this example, _ represents the index of the row (0, 1, 2), and row holds the entire row's data as a pandas Series object. You can access the individual elements of the row using their column labels:"
   ]
  },
  {
   "cell_type": "code",
   "execution_count": null,
   "metadata": {},
   "outputs": [],
   "source": [
    "for _, row in df.iterrows():\n",
    "    print(\"Name:\", row['Name'])\n",
    "    print(\"Age:\", row['Age'])\n",
    "    print()\n"
   ]
  },
  {
   "cell_type": "markdown",
   "metadata": {},
   "source": [
    "## Explanation for:\n",
    "\n",
    "## ages.items()\n",
    "## ages.items() refers to a method used on a dictionary to retrieve a view of the key-value pairs (items) within that dictionary. Let's break down how it works:\n",
    "\n"
   ]
  },
  {
   "cell_type": "code",
   "execution_count": null,
   "metadata": {},
   "outputs": [],
   "source": [
    "ages = {'Souptik': 44, 'Sam': 32, 'Allen': 20}\n",
    "\n",
    "# When you call ages.items(), it returns an iterable view that \n",
    "# provides each key-value pair as a tuple during iteration. Here's how you can use it:\n",
    "\n",
    "for name, age in ages.items():\n",
    "    print(f\"{name}'s age: {age}\")\n"
   ]
  },
  {
   "cell_type": "markdown",
   "metadata": {},
   "source": [
    "### In the loop, during each iteration, the name variable receives the key (e.g., 'Souptik') and the age variable receives the corresponding value (e.g., 44). This allows you to process each key-value pair in the dictionary.\n",
    "\n",
    "### Using ages.items() is a convenient way to iterate through both keys and values in a dictionary simultaneously."
   ]
  }
 ],
 "metadata": {
  "kernelspec": {
   "display_name": "Python 3",
   "language": "python",
   "name": "python3"
  },
  "language_info": {
   "codemirror_mode": {
    "name": "ipython",
    "version": 3
   },
   "file_extension": ".py",
   "mimetype": "text/x-python",
   "name": "python",
   "nbconvert_exporter": "python",
   "pygments_lexer": "ipython3",
   "version": "3.8.3"
  }
 },
 "nbformat": 4,
 "nbformat_minor": 4
}
