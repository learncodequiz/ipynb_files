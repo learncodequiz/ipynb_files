{
 "cells": [
  {
   "cell_type": "markdown",
   "metadata": {},
   "source": [
    "# Handling Data with some Null values using Pandas"
   ]
  },
  {
   "cell_type": "markdown",
   "metadata": {},
   "source": [
    "## Git repository of our tutorial Jypyter notebooks (including the codes) and the Data sets: https://github.com/learncodequiz/ipynb_files\n",
    "## Jupyter notebook file for this video: Handling Data with some Null values using Pandas.ipynb \n",
    "## Data set for this video: Data_with_nulls.csv . Keep the data set in the same folder as the Jupyter notebook file. "
   ]
  },
  {
   "cell_type": "code",
   "execution_count": 66,
   "metadata": {},
   "outputs": [],
   "source": [
    "import pandas as pd"
   ]
  },
  {
   "cell_type": "markdown",
   "metadata": {},
   "source": [
    "## To read a file .read_csv() method"
   ]
  },
  {
   "cell_type": "code",
   "execution_count": 67,
   "metadata": {
    "scrolled": true
   },
   "outputs": [
    {
     "name": "stdout",
     "output_type": "stream",
     "text": [
      "    Age  Height  Weight\n",
      "0  28.0   165.0      58\n",
      "1  24.0     NaN      75\n",
      "2  22.0   155.0      50\n",
      "3   NaN   172.0      65\n",
      "4  29.0   168.0      60\n"
     ]
    }
   ],
   "source": [
    "# You have a CSV file named 'data1.csv' \n",
    "df_with_nulls_csv = pd.read_csv('data_with_nulls.csv')\n",
    "\n",
    "# NaN (Not a Number)\n",
    "# Display the DataFrame\n",
    "print(df_with_nulls_csv)"
   ]
  },
  {
   "cell_type": "markdown",
   "metadata": {},
   "source": [
    "## 1. Removing Rows with Null Values\n",
    "## 2. Filling Null Values\n",
    "## 3. Imputing Missing Values"
   ]
  },
  {
   "cell_type": "markdown",
   "metadata": {},
   "source": [
    "# Removing Rows with Null Values\n",
    "\n",
    "### .dropna() method"
   ]
  },
  {
   "cell_type": "code",
   "execution_count": 68,
   "metadata": {},
   "outputs": [
    {
     "name": "stdout",
     "output_type": "stream",
     "text": [
      "    Age  Height  Weight\n",
      "0  28.0   165.0      58\n",
      "2  22.0   155.0      50\n",
      "4  29.0   168.0      60\n"
     ]
    }
   ],
   "source": [
    "# Removing Rows with Null Values\n",
    "# Drop rows with null values\n",
    "df_cleaned = df_with_nulls_csv.dropna()\n",
    "print(df_cleaned)"
   ]
  },
  {
   "cell_type": "markdown",
   "metadata": {},
   "source": [
    "# Filling Null Values (Mean of each colum)\n",
    "\n",
    "### .fillna() method\n",
    "\n",
    "### .mean() method "
   ]
  },
  {
   "cell_type": "code",
   "execution_count": 69,
   "metadata": {},
   "outputs": [
    {
     "name": "stdout",
     "output_type": "stream",
     "text": [
      "Age        25.75\n",
      "Height    165.00\n",
      "Weight     61.60\n",
      "dtype: float64\n",
      "\n",
      "\n",
      "    Age  Height  Weight\n",
      "0  28.0   165.0      58\n",
      "1  24.0     NaN      75\n",
      "2  22.0   155.0      50\n",
      "3   NaN   172.0      65\n",
      "4  29.0   168.0      60\n",
      "\n",
      "\n",
      "     Age  Height  Weight\n",
      "0  28.00   165.0      58\n",
      "1  24.00   165.0      75\n",
      "2  22.00   155.0      50\n",
      "3  25.75   172.0      65\n",
      "4  29.00   168.0      60\n"
     ]
    }
   ],
   "source": [
    "# Filling Null Values\n",
    "# Fill null values with the mean of each column\n",
    "\n",
    "df_filled = df_with_nulls_csv.fillna(df_with_nulls_csv.mean()) \n",
    "\n",
    "\n",
    "# .mean() method is used to calculate the mean (average) value of numeric \n",
    "# data in a DataFrame or Series.\n",
    "\n",
    "# fillna() is a method provided by pandas, for data manipulation and analysis. \n",
    "# The fillna() method is used to fill missing or NaN (Not a Number) values in a DataFrame or Series with specified values \n",
    "# df_with_nulls_csv = pd.read_csv('data_with_nulls.csv')\n",
    "\n",
    "print(df_with_nulls_csv.mean())\n",
    "print(\"\\n\")\n",
    "print(f\"{df_with_nulls_csv}\")\n",
    "print(\"\\n\")\n",
    "\n",
    "#\n",
    "print(df_filled)"
   ]
  },
  {
   "cell_type": "markdown",
   "metadata": {},
   "source": [
    "### .describe() method is used to generate descriptive statistics of numeric data\n",
    "### in a DataFrame or Series (columns)."
   ]
  },
  {
   "cell_type": "code",
   "execution_count": 70,
   "metadata": {},
   "outputs": [
    {
     "name": "stdout",
     "output_type": "stream",
     "text": [
      "             Age      Height   Weight\n",
      "count   5.000000    5.000000   5.0000\n",
      "mean   25.750000  165.000000  61.6000\n",
      "std     2.861381    6.284903   9.2358\n",
      "min    22.000000  155.000000  50.0000\n",
      "25%    24.000000  165.000000  58.0000\n",
      "50%    25.750000  165.000000  60.0000\n",
      "75%    28.000000  168.000000  65.0000\n",
      "max    29.000000  172.000000  75.0000\n"
     ]
    }
   ],
   "source": [
    "print(df_filled.describe())"
   ]
  },
  {
   "cell_type": "markdown",
   "metadata": {},
   "source": [
    "### 25th Percentile (Q1 or First Quartile):\n",
    "### The 25th percentile is the value below which 25% of the data falls.\n",
    "### 50th Percentile (Median):\n",
    "### The 50th percentile is the middle value of the dataset when it is sorted in ascending order.\n",
    "### 75th Percentile (Q3 or Third Quartile):\n",
    "### The 75th percentile is the value below which 75% of the data falls. "
   ]
  },
  {
   "cell_type": "markdown",
   "metadata": {},
   "source": [
    "# Imputing Missing Values (Using Statistical Tools)\n",
    "\n",
    "### Another common approach is to impute missing values with more sophisticated methods, such as using the \n",
    "### k-nearest neighbors algorithm or regression models to predict the missing values.\n",
    "\n",
    "### KNNImputer class\n",
    "### .fit_transform method\n",
    "### DataFrame constructor"
   ]
  },
  {
   "cell_type": "code",
   "execution_count": 71,
   "metadata": {},
   "outputs": [
    {
     "name": "stdout",
     "output_type": "stream",
     "text": [
      "[[ 28.  165.   58. ]\n",
      " [ 24.  170.   75. ]\n",
      " [ 22.  155.   50. ]\n",
      " [ 28.5 172.   65. ]\n",
      " [ 29.  168.   60. ]]\n",
      "\n",
      "\n",
      "    Age  Height  Weight\n",
      "0  28.0   165.0      58\n",
      "1  24.0     NaN      75\n",
      "2  22.0   155.0      50\n",
      "3   NaN   172.0      65\n",
      "4  29.0   168.0      60\n",
      "\n",
      "\n",
      "             Age      Height   Weight\n",
      "count   5.000000    5.000000   5.0000\n",
      "mean   26.300000  166.000000  61.6000\n",
      "std     3.114482    6.670832   9.2358\n",
      "min    22.000000  155.000000  50.0000\n",
      "25%    24.000000  165.000000  58.0000\n",
      "50%    28.000000  168.000000  60.0000\n",
      "75%    28.500000  170.000000  65.0000\n",
      "max    29.000000  172.000000  75.0000\n"
     ]
    }
   ],
   "source": [
    "from sklearn.impute import KNNImputer\n",
    "\n",
    "# The KNNImputer is a class from scikit-learn that provides a method for imputing missing values \n",
    "# using the k-nearest neighbors algorithm.\n",
    "# Initialize the KNNImputer with k=2 (use 2 nearest neighbors for imputation)\n",
    "\n",
    "knn_imputer = KNNImputer(n_neighbors=2)\n",
    "\n",
    "# n_neighbors=2: The parameter n_neighbors specifies the number of nearest neighbors to use for imputing the missing values. \n",
    "# In this case, we set it to 2, which means the imputer will use the values of the two nearest neighbors \n",
    "# to estimate the missing value for each null value.\n",
    "\n",
    "print(knn_imputer.fit_transform(df_with_nulls_csv))\n",
    "print(\"\\n\")\n",
    "print(f\"{df_with_nulls_csv}\")\n",
    "print(\"\\n\")\n",
    "\n",
    "# Impute missing values using KNN imputation\n",
    "df_imputed = pd.DataFrame(knn_imputer.fit_transform(df_with_nulls_csv), columns=df_with_nulls_csv.columns)\n",
    "\n",
    "\n",
    "# This line of code does the following:\n",
    "\n",
    "    # knn_imputer.fit_transform(df_with_nulls_csv): The fit_transform method of the \n",
    "    # KNNImputer class is called on the DataFrame df_with_nulls_csv. This method performs \n",
    "    # the imputation of missing values using the KNN algorithm and returns a new NumPy array \n",
    "    # with the imputed values.\n",
    "    \n",
    "    # columns=df_with_nulls_csv.columns: We specify the column names for the new\n",
    "    # DataFrame df_imputed to be the same as the original DataFrame df_with_nulls_csv. \n",
    "    # This ensures that the columns in the new DataFrame are labeled correctly.\n",
    "    \n",
    "    # pd.DataFrame(...): We wrap the resulting NumPy array in a new Pandas DataFrame \n",
    "    # using pd.DataFrame(...). This creates a new DataFrame df_imputed with the imputed values.\n",
    "   \n",
    "\n",
    "print(df_imputed.describe())"
   ]
  }
 ],
 "metadata": {
  "kernelspec": {
   "display_name": "Python 3",
   "language": "python",
   "name": "python3"
  },
  "language_info": {
   "codemirror_mode": {
    "name": "ipython",
    "version": 3
   },
   "file_extension": ".py",
   "mimetype": "text/x-python",
   "name": "python",
   "nbconvert_exporter": "python",
   "pygments_lexer": "ipython3",
   "version": "3.8.3"
  }
 },
 "nbformat": 4,
 "nbformat_minor": 4
}
