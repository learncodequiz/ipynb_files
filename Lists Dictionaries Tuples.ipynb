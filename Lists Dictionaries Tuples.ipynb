{
 "cells": [
  {
   "cell_type": "markdown",
   "metadata": {},
   "source": [
    "# Title: Differences between Lists, Dictionaries, and Tuples\n"
   ]
  },
  {
   "cell_type": "markdown",
   "metadata": {},
   "source": [
    "Lists: \n",
    "Lists are ordered, mutable (can be changed), and can contain duplicate elements.\n",
    "Elements in a list are enclosed in square brackets [ ] and separated by commas."
   ]
  },
  {
   "attachments": {},
   "cell_type": "markdown",
   "metadata": {},
   "source": [
    "# Example of a list\n"
   ]
  },
  {
   "cell_type": "code",
   "execution_count": 17,
   "metadata": {},
   "outputs": [],
   "source": [
    "fruits_list = ['apple', 'banana', 'orange', 'kiwi']"
   ]
  },
  {
   "cell_type": "markdown",
   "metadata": {},
   "source": [
    "# Accessing an element in a list:"
   ]
  },
  {
   "cell_type": "code",
   "execution_count": 18,
   "metadata": {},
   "outputs": [
    {
     "name": "stdout",
     "output_type": "stream",
     "text": [
      "Accessing an element in a list:\n",
      "banana\n"
     ]
    }
   ],
   "source": [
    "print(\"Accessing an element in a list:\")\n",
    "print(fruits_list[1])"
   ]
  },
  {
   "cell_type": "markdown",
   "metadata": {},
   "source": [
    "# Deleting an element from a list:"
   ]
  },
  {
   "cell_type": "code",
   "execution_count": 19,
   "metadata": {},
   "outputs": [
    {
     "name": "stdout",
     "output_type": "stream",
     "text": [
      "\n",
      "Deleting an element from a list:\n",
      "['apple', 'banana', 'kiwi']\n"
     ]
    }
   ],
   "source": [
    "print(\"\\nDeleting an element from a list:\")\n",
    "del fruits_list[2]  # Removes 'orange' from the list\n",
    "print(fruits_list)  # Output: ['apple', 'banana', 'kiwi']"
   ]
  },
  {
   "cell_type": "markdown",
   "metadata": {},
   "source": [
    "# Adding an element to a list:"
   ]
  },
  {
   "cell_type": "code",
   "execution_count": 20,
   "metadata": {},
   "outputs": [
    {
     "name": "stdout",
     "output_type": "stream",
     "text": [
      "\n",
      "Adding an element to a list:\n",
      "['apple', 'banana', 'kiwi', 'grapes']\n"
     ]
    }
   ],
   "source": [
    "print(\"\\nAdding an element to a list:\")\n",
    "fruits_list.append('grapes')  # Add 'grapes' to the end of the list\n",
    "print(fruits_list)  # Output: ['apple', 'banana', 'kiwi', 'grapes']"
   ]
  },
  {
   "cell_type": "markdown",
   "metadata": {},
   "source": [
    "# Dictionaries:"
   ]
  },
  {
   "cell_type": "markdown",
   "metadata": {},
   "source": [
    "Dictionaries are unordered, mutable (can be changed), and consist of key-value pairs.\n",
    "Each key-value pair is enclosed in curly braces { } and separated by commas.\n",
    "Dictionaries are accessed using keys instead of indices."
   ]
  },
  {
   "cell_type": "markdown",
   "metadata": {},
   "source": [
    "# Example of a Dictionary:"
   ]
  },
  {
   "cell_type": "code",
   "execution_count": 7,
   "metadata": {},
   "outputs": [],
   "source": [
    "person_info = {'name': 'John', 'age': 30, 'occupation': 'engineer'}"
   ]
  },
  {
   "cell_type": "markdown",
   "metadata": {},
   "source": [
    "# Accessing an element in a dictionary:"
   ]
  },
  {
   "cell_type": "code",
   "execution_count": 8,
   "metadata": {},
   "outputs": [
    {
     "name": "stdout",
     "output_type": "stream",
     "text": [
      "\n",
      "Accessing an element in a dictionary:\n",
      "John\n"
     ]
    }
   ],
   "source": [
    "print(\"\\nAccessing an element in a dictionary:\")\n",
    "print(person_info['name'])  # Output: 'John'"
   ]
  },
  {
   "cell_type": "markdown",
   "metadata": {},
   "source": [
    "# Deleting an element from a dictionary:"
   ]
  },
  {
   "cell_type": "code",
   "execution_count": 9,
   "metadata": {},
   "outputs": [
    {
     "name": "stdout",
     "output_type": "stream",
     "text": [
      "\n",
      "Deleting an element from a dictionary:\n",
      "{'name': 'John', 'occupation': 'engineer'}\n"
     ]
    }
   ],
   "source": [
    "print(\"\\nDeleting an element from a dictionary:\")\n",
    "del person_info['age']  # Removes 'age' key and its value from the dictionary\n",
    "print(person_info)  # Output: {'name': 'John', 'occupation': 'engineer'}"
   ]
  },
  {
   "cell_type": "markdown",
   "metadata": {},
   "source": [
    "# Adding an element to a dictionary:"
   ]
  },
  {
   "cell_type": "code",
   "execution_count": null,
   "metadata": {},
   "outputs": [],
   "source": [
    "print(\"\\nAdding an element to a dictionary:\")\n",
    "person_info['location'] = 'New York'  # Add a new key-value pair\n",
    "print(person_info)  # Output: {'name': 'John', 'occupation': 'engineer', 'location': 'New York'}"
   ]
  },
  {
   "cell_type": "markdown",
   "metadata": {},
   "source": [
    "# Tuples:"
   ]
  },
  {
   "cell_type": "markdown",
   "metadata": {},
   "source": [
    "Tuples are ordered, immutable (cannot be changed after creation), and can contain duplicate elements.\n",
    "Elements in a tuple are enclosed in parentheses ( ) and separated by commas.\n"
   ]
  },
  {
   "cell_type": "markdown",
   "metadata": {},
   "source": [
    "# Example of a Tuple:"
   ]
  },
  {
   "cell_type": "code",
   "execution_count": 11,
   "metadata": {},
   "outputs": [],
   "source": [
    "coordinates_tuple = (10, 20)"
   ]
  },
  {
   "cell_type": "markdown",
   "metadata": {},
   "source": [
    "# Accessing an element in a tuple:"
   ]
  },
  {
   "cell_type": "code",
   "execution_count": 12,
   "metadata": {},
   "outputs": [
    {
     "name": "stdout",
     "output_type": "stream",
     "text": [
      "\n",
      "Accessing an element in a tuple:\n",
      "10\n"
     ]
    }
   ],
   "source": [
    "print(\"\\nAccessing an element in a tuple:\")\n",
    "print(coordinates_tuple[0])  # Output: 10"
   ]
  },
  {
   "cell_type": "markdown",
   "metadata": {},
   "source": [
    "# Tuples are immutable, so there is no direct way to delete an element from a tuple.\n",
    "To \"delete\" an element, you need to create a new tuple without the element you want to remove."
   ]
  },
  {
   "cell_type": "markdown",
   "metadata": {},
   "source": [
    "Adding an element to a tuple (not directly possible due to immutability):"
   ]
  },
  {
   "cell_type": "code",
   "execution_count": 13,
   "metadata": {},
   "outputs": [
    {
     "name": "stdout",
     "output_type": "stream",
     "text": [
      "\n",
      "Adding an element to a tuple:\n"
     ]
    }
   ],
   "source": [
    "print(\"\\nAdding an element to a tuple:\")"
   ]
  },
  {
   "cell_type": "markdown",
   "metadata": {},
   "source": [
    "# To add an element, you need to create a new tuple with the additional element"
   ]
  },
  {
   "cell_type": "code",
   "execution_count": 22,
   "metadata": {},
   "outputs": [
    {
     "name": "stdout",
     "output_type": "stream",
     "text": [
      "(10, 20, 30)\n"
     ]
    }
   ],
   "source": [
    "new_coordinates_tuple = coordinates_tuple + (30,)\n",
    "print(new_coordinates_tuple)  # Output: (10, 20, 30)"
   ]
  },
  {
   "cell_type": "code",
   "execution_count": null,
   "metadata": {},
   "outputs": [],
   "source": []
  }
 ],
 "metadata": {
  "kernelspec": {
   "display_name": "Python 3",
   "language": "python",
   "name": "python3"
  },
  "language_info": {
   "codemirror_mode": {
    "name": "ipython",
    "version": 3
   },
   "file_extension": ".py",
   "mimetype": "text/x-python",
   "name": "python",
   "nbconvert_exporter": "python",
   "pygments_lexer": "ipython3",
   "version": "3.8.3"
  }
 },
 "nbformat": 4,
 "nbformat_minor": 4
}
