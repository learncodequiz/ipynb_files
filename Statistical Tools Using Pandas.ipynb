{
 "cells": [
  {
   "cell_type": "markdown",
   "metadata": {},
   "source": [
    "# Statistical Tools Using Pandas "
   ]
  },
  {
   "cell_type": "code",
   "execution_count": 1,
   "metadata": {},
   "outputs": [
    {
     "name": "stderr",
     "output_type": "stream",
     "text": [
      "C:\\Users\\soupt\\AppData\\Roaming\\Python\\Python38\\site-packages\\pandas\\core\\computation\\expressions.py:20: UserWarning: Pandas requires version '2.7.3' or newer of 'numexpr' (version '2.7.1' currently installed).\n",
      "  from pandas.core.computation.check import NUMEXPR_INSTALLED\n"
     ]
    }
   ],
   "source": [
    "import pandas as pd\n",
    "\n",
    "# Sample data in dictionary format\n",
    "data = {\n",
    "    'Age': [28, 24, 22, 25, 29],\n",
    "    'Height': [165, 180, 155, 172, 168],\n",
    "    'Weight': [58, 75, 50, 65, 60]\n",
    "}"
   ]
  },
  {
   "cell_type": "code",
   "execution_count": 2,
   "metadata": {},
   "outputs": [],
   "source": [
    "# Create DataFrame from the dictionary\n",
    "df = pd.DataFrame(data)"
   ]
  },
  {
   "cell_type": "markdown",
   "metadata": {},
   "source": [
    "### describe(): Generates descriptive statistics of the DataFrame, \n",
    "### providing mean, standard deviation, minimum, maximum, quartiles, and more for each numerical column."
   ]
  },
  {
   "cell_type": "code",
   "execution_count": 3,
   "metadata": {},
   "outputs": [
    {
     "name": "stdout",
     "output_type": "stream",
     "text": [
      "Summary Statistics:\n",
      "             Age      Height   Weight\n",
      "count   5.000000    5.000000   5.0000\n",
      "mean   25.600000  168.000000  61.6000\n",
      "std     2.880972    9.192388   9.2358\n",
      "min    22.000000  155.000000  50.0000\n",
      "25%    24.000000  165.000000  58.0000\n",
      "50%    25.000000  168.000000  60.0000\n",
      "75%    28.000000  172.000000  65.0000\n",
      "max    29.000000  180.000000  75.0000\n"
     ]
    }
   ],
   "source": [
    "# Summary Statistics\n",
    "print(\"Summary Statistics:\")\n",
    "print(df.describe())"
   ]
  },
  {
   "cell_type": "markdown",
   "metadata": {},
   "source": [
    "### 25th Percentile (Q1 or First Quartile):\n",
    "### The 25th percentile is the value below which 25% of the data falls.\n",
    "### 50th Percentile (Median):\n",
    "### The 50th percentile is the middle value of the dataset when it is sorted in ascending order.\n",
    "### 75th Percentile (Q3 or Third Quartile):\n",
    "### The 75th percentile is the value below which 75% of the data falls. \n"
   ]
  },
  {
   "cell_type": "code",
   "execution_count": 4,
   "metadata": {},
   "outputs": [
    {
     "name": "stdout",
     "output_type": "stream",
     "text": [
      "{'Age': [28, 24, 22, 25, 29], 'Height': [165, 180, 155, 172, 168], 'Weight': [58, 75, 50, 65, 60]}\n",
      "\n",
      "Mean:\n",
      "Age        25.6\n",
      "Height    168.0\n",
      "Weight     61.6\n",
      "dtype: float64\n",
      "\n",
      "Median:\n",
      "Age        25.0\n",
      "Height    168.0\n",
      "Weight     60.0\n",
      "dtype: float64\n",
      "\n",
      "Mode:\n",
      "   Age  Height  Weight\n",
      "0   22     155      50\n",
      "1   24     165      58\n",
      "2   25     168      60\n",
      "3   28     172      65\n",
      "4   29     180      75\n"
     ]
    }
   ],
   "source": [
    "print(data)\n",
    "# Mean, Median, Mode\n",
    "print(\"\\nMean:\")\n",
    "print(df.mean())\n",
    "print(\"\\nMedian:\")\n",
    "print(df.median())\n",
    "print(\"\\nMode:\")\n",
    "print(df.mode())"
   ]
  },
  {
   "cell_type": "code",
   "execution_count": 5,
   "metadata": {},
   "outputs": [
    {
     "name": "stdout",
     "output_type": "stream",
     "text": [
      "\n",
      "Correlation:\n",
      "             Age   Height    Weight\n",
      "Age     1.000000  0.16992  0.039462\n",
      "Height  0.169920  1.00000  0.989410\n",
      "Weight  0.039462  0.98941  1.000000\n"
     ]
    }
   ],
   "source": [
    "# Correlation\n",
    "print(\"\\nCorrelation:\")\n",
    "print(df.corr())"
   ]
  },
  {
   "cell_type": "markdown",
   "metadata": {},
   "source": [
    "### The output you provided is the correlation matrix of a DataFrame containing three columns: \n",
    "###    'Age', 'Height', and 'Weight'. The correlation matrix shows the correlation coefficients between each pair of columns.\n",
    "### The correlation coefficient measures the strength and direction of a linear relationship between two variables. It ranges from -1 to 1:\n",
    "\n",
    "### -1: Perfect negative correlation (as one variable increases, the other decreases linearly).\n",
    "### 0: No linear correlation (variables are not linearly related).\n",
    "### 1: Perfect positive correlation (as one variable increases, the other increases linearly).\n",
    "### The correlation coefficient between 'Age' and 'Height' is approximately 0.16992, which is close to 0, indicating a weak positive correlation. This suggests that there is a slight positive relationship between age and height, but it is not very strong."
   ]
  },
  {
   "cell_type": "code",
   "execution_count": 6,
   "metadata": {},
   "outputs": [
    {
     "name": "stdout",
     "output_type": "stream",
     "text": [
      "   Age  Height  Weight\n",
      "0   28     165      58\n",
      "1   24     180      75\n",
      "2   22     155      50\n",
      "3   25     172      65\n",
      "4   29     168      60\n"
     ]
    }
   ],
   "source": [
    "# Assuming you have a CSV file named 'data1.csv' with the same data as in the dictionary example\n",
    "df_csv = pd.read_csv('data1.csv')\n",
    "\n",
    "# Display the DataFrame\n",
    "print(df_csv)"
   ]
  },
  {
   "cell_type": "code",
   "execution_count": 7,
   "metadata": {},
   "outputs": [
    {
     "name": "stdout",
     "output_type": "stream",
     "text": [
      "Summary Statistics:\n",
      "             Age      Height   Weight\n",
      "count   5.000000    5.000000   5.0000\n",
      "mean   25.600000  168.000000  61.6000\n",
      "std     2.880972    9.192388   9.2358\n",
      "min    22.000000  155.000000  50.0000\n",
      "25%    24.000000  165.000000  58.0000\n",
      "50%    25.000000  168.000000  60.0000\n",
      "75%    28.000000  172.000000  65.0000\n",
      "max    29.000000  180.000000  75.0000\n"
     ]
    }
   ],
   "source": [
    "# Summary Statistics\n",
    "print(\"Summary Statistics:\")\n",
    "print(df_csv.describe())"
   ]
  },
  {
   "cell_type": "code",
   "execution_count": 8,
   "metadata": {},
   "outputs": [
    {
     "name": "stdout",
     "output_type": "stream",
     "text": [
      "\n",
      "Mean:\n",
      "Age        25.6\n",
      "Height    168.0\n",
      "Weight     61.6\n",
      "dtype: float64\n",
      "\n",
      "Median:\n",
      "Age        25.0\n",
      "Height    168.0\n",
      "Weight     60.0\n",
      "dtype: float64\n",
      "\n",
      "Mode:\n",
      "   Age  Height  Weight\n",
      "0   22     155      50\n",
      "1   24     165      58\n",
      "2   25     168      60\n",
      "3   28     172      65\n",
      "4   29     180      75\n"
     ]
    }
   ],
   "source": [
    "# Mean, Median, Mode\n",
    "print(\"\\nMean:\")\n",
    "print(df_csv.mean())\n",
    "print(\"\\nMedian:\")\n",
    "print(df_csv.median())\n",
    "print(\"\\nMode:\")\n",
    "print(df_csv.mode())"
   ]
  },
  {
   "cell_type": "code",
   "execution_count": 9,
   "metadata": {},
   "outputs": [
    {
     "name": "stdout",
     "output_type": "stream",
     "text": [
      "\n",
      "Correlation:\n",
      "             Age   Height    Weight\n",
      "Age     1.000000  0.16992  0.039462\n",
      "Height  0.169920  1.00000  0.989410\n",
      "Weight  0.039462  0.98941  1.000000\n"
     ]
    }
   ],
   "source": [
    "# Correlation\n",
    "print(\"\\nCorrelation:\")\n",
    "print(df_csv.corr())"
   ]
  },
  {
   "cell_type": "code",
   "execution_count": null,
   "metadata": {},
   "outputs": [],
   "source": []
  }
 ],
 "metadata": {
  "kernelspec": {
   "display_name": "Python 3",
   "language": "python",
   "name": "python3"
  },
  "language_info": {
   "codemirror_mode": {
    "name": "ipython",
    "version": 3
   },
   "file_extension": ".py",
   "mimetype": "text/x-python",
   "name": "python",
   "nbconvert_exporter": "python",
   "pygments_lexer": "ipython3",
   "version": "3.8.3"
  }
 },
 "nbformat": 4,
 "nbformat_minor": 4
}
